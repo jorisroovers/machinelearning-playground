{
 "cells": [
  {
   "cell_type": "markdown",
   "metadata": {},
   "source": [
    "# Generating Sample Data"
   ]
  },
  {
   "cell_type": "code",
   "execution_count": 2,
   "metadata": {},
   "outputs": [],
   "source": [
    "# Imports\n",
    "import numpy\n",
    "import pandas"
   ]
  },
  {
   "cell_type": "code",
   "execution_count": 15,
   "metadata": {},
   "outputs": [
    {
     "data": {
      "text/html": [
       "<div>\n",
       "<style scoped>\n",
       "    .dataframe tbody tr th:only-of-type {\n",
       "        vertical-align: middle;\n",
       "    }\n",
       "\n",
       "    .dataframe tbody tr th {\n",
       "        vertical-align: top;\n",
       "    }\n",
       "\n",
       "    .dataframe thead th {\n",
       "        text-align: right;\n",
       "    }\n",
       "</style>\n",
       "<table border=\"1\" class=\"dataframe\">\n",
       "  <thead>\n",
       "    <tr style=\"text-align: right;\">\n",
       "      <th></th>\n",
       "      <th>x</th>\n",
       "      <th>y</th>\n",
       "      <th>target</th>\n",
       "    </tr>\n",
       "  </thead>\n",
       "  <tbody>\n",
       "    <tr>\n",
       "      <th>0</th>\n",
       "      <td>5.968569</td>\n",
       "      <td>5.836820</td>\n",
       "      <td>0</td>\n",
       "    </tr>\n",
       "    <tr>\n",
       "      <th>1</th>\n",
       "      <td>5.019439</td>\n",
       "      <td>5.447868</td>\n",
       "      <td>0</td>\n",
       "    </tr>\n",
       "    <tr>\n",
       "      <th>2</th>\n",
       "      <td>5.259760</td>\n",
       "      <td>5.208250</td>\n",
       "      <td>0</td>\n",
       "    </tr>\n",
       "    <tr>\n",
       "      <th>3</th>\n",
       "      <td>5.031713</td>\n",
       "      <td>5.536781</td>\n",
       "      <td>0</td>\n",
       "    </tr>\n",
       "    <tr>\n",
       "      <th>4</th>\n",
       "      <td>5.529191</td>\n",
       "      <td>5.885032</td>\n",
       "      <td>0</td>\n",
       "    </tr>\n",
       "  </tbody>\n",
       "</table>\n",
       "</div>"
      ],
      "text/plain": [
       "          x         y  target\n",
       "0  5.968569  5.836820       0\n",
       "1  5.019439  5.447868       0\n",
       "2  5.259760  5.208250       0\n",
       "3  5.031713  5.536781       0\n",
       "4  5.529191  5.885032       0"
      ]
     },
     "execution_count": 15,
     "metadata": {},
     "output_type": "execute_result"
    }
   ],
   "source": [
    "\n",
    "def generate_data():\n",
    "    # Generate Random Data\n",
    "    cluster_size = 1000 # number of data points in a cluster\n",
    "    dimensions = 2\n",
    "\n",
    "    # Cluster A random numbers\n",
    "    cA_offset = (5,5)\n",
    "    cA = pandas.DataFrame(numpy.random.rand(cluster_size, dimensions) + cA_offset, columns=[\"x\", \"y\"])\n",
    "\n",
    "    # Cluster B random numbers\n",
    "    cB_offset = (1,1)\n",
    "    cB = pandas.DataFrame(numpy.random.rand(cluster_size, dimensions) + cB_offset, columns=[\"x\", \"y\"])\n",
    "\n",
    "    # Cluster C random numbers\n",
    "    cC_offset = (5,1)\n",
    "    cC = pandas.DataFrame(numpy.random.rand(cluster_size, dimensions) + cC_offset, columns=[\"x\", \"y\"])\n",
    "\n",
    "    # Assign targets to the clusters\n",
    "    cA[\"target\"] = 0\n",
    "    cB[\"target\"] = 1\n",
    "    cC[\"target\"] = 2\n",
    "    \n",
    "    return cA, cB, cC\n",
    "\n",
    "\n",
    "cA, cB, cC = generate_data()\n",
    "\n",
    "# Show sample data\n",
    "cA.head()"
   ]
  },
  {
   "cell_type": "code",
   "execution_count": 16,
   "metadata": {},
   "outputs": [
    {
     "data": {
      "text/plain": [
       "(0, 7)"
      ]
     },
     "execution_count": 16,
     "metadata": {},
     "output_type": "execute_result"
    },
    {
     "data": {
      "image/png": "[encoded data removed]",
      "text/plain": [
       "<Figure size 432x288 with 1 Axes>"
      ]
     },
     "metadata": {},
     "output_type": "display_data"
    }
   ],
   "source": [
    "# Plot a small subset of the data\n",
    "%matplotlib inline\n",
    "import matplotlib.pyplot as plt\n",
    "\n",
    "# Use head() to only plot some points\n",
    "plt.scatter(cA['x'].head(), cA['y'].head())\n",
    "plt.scatter(cB['x'].head(), cB['y'].head())\n",
    "plt.scatter(cC['x'].head(), cC['y'].head())\n",
    "plt.xlim([0, 7]) # show x-scale from 0 to 7\n",
    "plt.ylim([0, 7])"
   ]
  },
  {
   "cell_type": "code",
   "execution_count": 17,
   "metadata": {},
   "outputs": [
    {
     "data": {
      "text/html": [
       "<div>\n",
       "<style scoped>\n",
       "    .dataframe tbody tr th:only-of-type {\n",
       "        vertical-align: middle;\n",
       "    }\n",
       "\n",
       "    .dataframe tbody tr th {\n",
       "        vertical-align: top;\n",
       "    }\n",
       "\n",
       "    .dataframe thead th {\n",
       "        text-align: right;\n",
       "    }\n",
       "</style>\n",
       "<table border=\"1\" class=\"dataframe\">\n",
       "  <thead>\n",
       "    <tr style=\"text-align: right;\">\n",
       "      <th></th>\n",
       "      <th>x</th>\n",
       "      <th>y</th>\n",
       "      <th>target</th>\n",
       "    </tr>\n",
       "  </thead>\n",
       "  <tbody>\n",
       "    <tr>\n",
       "      <th>0</th>\n",
       "      <td>5.112386</td>\n",
       "      <td>5.401045</td>\n",
       "      <td>0</td>\n",
       "    </tr>\n",
       "    <tr>\n",
       "      <th>1</th>\n",
       "      <td>1.941281</td>\n",
       "      <td>1.213089</td>\n",
       "      <td>1</td>\n",
       "    </tr>\n",
       "    <tr>\n",
       "      <th>2</th>\n",
       "      <td>5.732005</td>\n",
       "      <td>5.548541</td>\n",
       "      <td>0</td>\n",
       "    </tr>\n",
       "    <tr>\n",
       "      <th>3</th>\n",
       "      <td>1.940706</td>\n",
       "      <td>1.929806</td>\n",
       "      <td>1</td>\n",
       "    </tr>\n",
       "    <tr>\n",
       "      <th>4</th>\n",
       "      <td>5.959131</td>\n",
       "      <td>1.272917</td>\n",
       "      <td>2</td>\n",
       "    </tr>\n",
       "  </tbody>\n",
       "</table>\n",
       "</div>"
      ],
      "text/plain": [
       "          x         y  target\n",
       "0  5.112386  5.401045       0\n",
       "1  1.941281  1.213089       1\n",
       "2  5.732005  5.548541       0\n",
       "3  1.940706  1.929806       1\n",
       "4  5.959131  1.272917       2"
      ]
     },
     "execution_count": 17,
     "metadata": {},
     "output_type": "execute_result"
    }
   ],
   "source": [
    "# Concat all the input data (required for our neural network)\n",
    "# ignore_index=True reindexes instead of keeping the existing indexes\n",
    "# This makes sure we don't have repeating indexes\n",
    "input_data = pandas.concat([cA, cB, cC], ignore_index=True)\n",
    "\n",
    "# Shuffle data set: https://stackoverflow.com/questions/29576430/shuffle-dataframe-rows\n",
    "# This makes sure we don't bias our neural network on the order things are inputted\n",
    "input_data = input_data.sample(frac=1).reset_index(drop=True)\n",
    "input_data.head() # Show sample from input_data"
   ]
  },
  {
   "cell_type": "markdown",
   "metadata": {},
   "source": [
    "# Building a Model\n",
    "\n",
    "We're going to build a very simple neural network that looks like this\n",
    "```\n",
    "2 inputs -> [no hidden nodes] -> 3 outputs\n",
    "```\n",
    "The first input will correspond to the x-coordinate of each point, the second input to the y-coordinate.\n",
    "The outputs will represent each of our target classes. In other words, the output will be a vector of dimension 3 containing probabilities that the given input corresponds to each of the target classes.\n",
    "\n",
    "Example:\n",
    "\n",
    "![Sample Neural Network](images/simple-nn.png)\n"
   ]
  },
  {
   "cell_type": "code",
   "execution_count": 18,
   "metadata": {},
   "outputs": [
    {
     "data": {
      "text/plain": [
       "(array([[ 5.11238584,  5.40104497],\n",
       "        [ 1.94128135,  1.21308904],\n",
       "        [ 5.73200533,  5.5485408 ],\n",
       "        ..., \n",
       "        [ 5.33006595,  1.92798334],\n",
       "        [ 5.94762255,  1.89685324],\n",
       "        [ 1.05976974,  1.04793135]]), array([[ 1.,  0.,  0.],\n",
       "        [ 0.,  1.,  0.],\n",
       "        [ 1.,  0.,  0.],\n",
       "        ..., \n",
       "        [ 0.,  0.,  1.],\n",
       "        [ 0.,  0.,  1.],\n",
       "        [ 0.,  1.,  0.]]))"
      ]
     },
     "execution_count": 18,
     "metadata": {},
     "output_type": "execute_result"
    }
   ],
   "source": [
    "import keras\n",
    "\n",
    "# Before we build our model, we first need to manipulate our dataset a bit so that we can easily use it with Keras.\n",
    "\n",
    "# For input layer, keras expects our dataset to be in the format: [[x1, y1], [x2, y2], [x3, y3], ...]\n",
    "training_input = input_data[[\"x\", \"y\"]].values\n",
    "\n",
    "# For the output layer, keras expects the target classes to be one-hot encoded (https://en.wikipedia.org/wiki/One-hot)\n",
    "# This basically means converting our list of target classes to a list with a vector for each of integer classes, \n",
    "# with a 1 on the position that corresponds to the integer representing the class\n",
    "# e.g. [0, 1, 2, 0, ...] -> [[1, 0, 0], [0, 1, 0], [0, 0, 1], [1, 0, 0], ...] \n",
    "# Keras has a utility function to_categorical(...) that does exactly this\n",
    "# Note: assumption is made that classes are labeled 0->n (starting a 0, no gaps)\n",
    "training_output = keras.utils.to_categorical(input_data[\"target\"].values)\n",
    "\n",
    "training_input, training_output"
   ]
  },
  {
   "cell_type": "code",
   "execution_count": 19,
   "metadata": {},
   "outputs": [
    {
     "name": "stdout",
     "output_type": "stream",
     "text": [
      "_________________________________________________________________\n",
      "Layer (type)                 Output Shape              Param #   \n",
      "=================================================================\n",
      "input_2 (InputLayer)         (None, 2)                 0         \n",
      "_________________________________________________________________\n",
      "dense_2 (Dense)              (None, 3)                 9         \n",
      "=================================================================\n",
      "Total params: 9\n",
      "Trainable params: 9\n",
      "Non-trainable params: 0\n",
      "_________________________________________________________________\n"
     ]
    }
   ],
   "source": [
    "from keras.models import Sequential, Model\n",
    "from keras.layers import Input, Dense\n",
    "\n",
    "# 1. BUILD MODEL\n",
    "# Build model with 2 inputs and 3 outputs\n",
    "# Use the softmax activation function to make sure our output vector has values between 0 and 1 \n",
    "# (= probabilities of belonging to the respective class)\n",
    "# Without the softmax function\n",
    "a = Input(shape=(2,))\n",
    "b = Dense(3, activation='softmax')(a)\n",
    "model = Model(inputs=a, outputs=b)\n",
    "\n",
    "# Alternative way to build model:\n",
    "# model = Sequential()\n",
    "# model.add(Dense(units=3, input_dim=2))\n",
    "\n",
    "# 2. COMPILE MODEL\n",
    "model.compile(loss='categorical_crossentropy', optimizer='sgd', metrics=['accuracy'])\n",
    "# Loss options:\n",
    "#  - categorical_crossentropy -> For a multi-class classification problem\n",
    "#  - binary_crossentropy      -> For a binary classification problem\n",
    "#  - mse                      -> For a mean squared error regression problem\n",
    "# Optimizer options:\n",
    "#  - sgd -> Stochastic Gradient Descent\n",
    "keras.utils.print_summary(model)"
   ]
  },
  {
   "cell_type": "code",
   "execution_count": 20,
   "metadata": {},
   "outputs": [
    {
     "name": "stdout",
     "output_type": "stream",
     "text": [
      "Epoch 1/20\n",
      "3000/3000 [==============================] - 0s 115us/step - loss: 1.4292 - acc: 0.5057\n",
      "Epoch 2/20\n",
      "3000/3000 [==============================] - 0s 55us/step - loss: 0.5191 - acc: 0.7207\n",
      "Epoch 3/20\n",
      "3000/3000 [==============================] - 0s 60us/step - loss: 0.4443 - acc: 0.8350\n",
      "Epoch 4/20\n",
      "3000/3000 [==============================] - 0s 54us/step - loss: 0.3908 - acc: 0.9550\n",
      "Epoch 5/20\n",
      "3000/3000 [==============================] - 0s 52us/step - loss: 0.3496 - acc: 0.9940\n",
      "Epoch 6/20\n",
      "3000/3000 [==============================] - 0s 50us/step - loss: 0.3160 - acc: 1.0000\n",
      "Epoch 7/20\n",
      "3000/3000 [==============================] - 0s 55us/step - loss: 0.2882 - acc: 1.0000\n",
      "Epoch 8/20\n",
      "3000/3000 [==============================] - 0s 55us/step - loss: 0.2645 - acc: 1.0000\n",
      "Epoch 9/20\n",
      "3000/3000 [==============================] - 0s 56us/step - loss: 0.2441 - acc: 1.0000\n",
      "Epoch 10/20\n",
      "3000/3000 [==============================] - 0s 55us/step - loss: 0.2264 - acc: 1.0000\n",
      "Epoch 11/20\n",
      "3000/3000 [==============================] - 0s 56us/step - loss: 0.2108 - acc: 1.0000\n",
      "Epoch 12/20\n",
      "3000/3000 [==============================] - 0s 55us/step - loss: 0.1971 - acc: 1.0000\n",
      "Epoch 13/20\n",
      "3000/3000 [==============================] - 0s 53us/step - loss: 0.1849 - acc: 1.0000\n",
      "Epoch 14/20\n",
      "3000/3000 [==============================] - 0s 51us/step - loss: 0.1740 - acc: 1.0000\n",
      "Epoch 15/20\n",
      "3000/3000 [==============================] - 0s 57us/step - loss: 0.1643 - acc: 1.0000\n",
      "Epoch 16/20\n",
      "3000/3000 [==============================] - 0s 62us/step - loss: 0.1554 - acc: 1.0000\n",
      "Epoch 17/20\n",
      "3000/3000 [==============================] - 0s 60us/step - loss: 0.1474 - acc: 1.0000\n",
      "Epoch 18/20\n",
      "3000/3000 [==============================] - 0s 58us/step - loss: 0.1401 - acc: 1.0000\n",
      "Epoch 19/20\n",
      "3000/3000 [==============================] - 0s 57us/step - loss: 0.1335 - acc: 1.0000\n",
      "Epoch 20/20\n",
      "3000/3000 [==============================] - 0s 61us/step - loss: 0.1274 - acc: 1.0000\n"
     ]
    },
    {
     "data": {
      "text/plain": [
       "<keras.callbacks.History at 0x11c91fad0>"
      ]
     },
     "execution_count": 20,
     "metadata": {},
     "output_type": "execute_result"
    }
   ],
   "source": [
    "# Training model\n",
    "model.fit(training_input, training_output, epochs=20)"
   ]
  },
  {
   "cell_type": "code",
   "execution_count": 14,
   "metadata": {},
   "outputs": [
    {
     "data": {
      "text/plain": [
       "array([[ 0.0331182 ,  0.02741841,  0.93946344],\n",
       "       [ 0.00529204,  0.00755698,  0.98715103],\n",
       "       [ 0.02206476,  0.02329852,  0.95463675],\n",
       "       [ 0.02672613,  0.02220271,  0.95107114],\n",
       "       [ 0.02035671,  0.01631144,  0.96333188],\n",
       "       [ 0.00839462,  0.00734325,  0.98426211],\n",
       "       [ 0.02230445,  0.02530804,  0.95238751],\n",
       "       [ 0.01743468,  0.01462103,  0.96794432],\n",
       "       [ 0.03719916,  0.03836909,  0.92443174],\n",
       "       [ 0.00539132,  0.0081815 ,  0.98642713]], dtype=float32)"
      ]
     },
     "execution_count": 14,
     "metadata": {},
     "output_type": "execute_result"
    }
   ],
   "source": [
    "test_dataset = numpy.random.rand(10, dimensions) + cC_offset\n",
    "classes = model.predict(test_dataset)\n",
    "classes"
   ]
  },
  {
   "cell_type": "markdown",
   "metadata": {},
   "source": [
    "# Model Evaluation"
   ]
  },
  {
   "cell_type": "code",
   "execution_count": 22,
   "metadata": {},
   "outputs": [
    {
     "data": {
      "text/html": [
       "<div>\n",
       "<style scoped>\n",
       "    .dataframe tbody tr th:only-of-type {\n",
       "        vertical-align: middle;\n",
       "    }\n",
       "\n",
       "    .dataframe tbody tr th {\n",
       "        vertical-align: top;\n",
       "    }\n",
       "\n",
       "    .dataframe thead th {\n",
       "        text-align: right;\n",
       "    }\n",
       "</style>\n",
       "<table border=\"1\" class=\"dataframe\">\n",
       "  <thead>\n",
       "    <tr style=\"text-align: right;\">\n",
       "      <th></th>\n",
       "      <th>x</th>\n",
       "      <th>y</th>\n",
       "      <th>target</th>\n",
       "    </tr>\n",
       "  </thead>\n",
       "  <tbody>\n",
       "    <tr>\n",
       "      <th>0</th>\n",
       "      <td>1.143847</td>\n",
       "      <td>1.954251</td>\n",
       "      <td>1</td>\n",
       "    </tr>\n",
       "    <tr>\n",
       "      <th>1</th>\n",
       "      <td>5.041302</td>\n",
       "      <td>5.548459</td>\n",
       "      <td>0</td>\n",
       "    </tr>\n",
       "    <tr>\n",
       "      <th>2</th>\n",
       "      <td>1.252901</td>\n",
       "      <td>1.662352</td>\n",
       "      <td>1</td>\n",
       "    </tr>\n",
       "    <tr>\n",
       "      <th>3</th>\n",
       "      <td>5.098254</td>\n",
       "      <td>5.638338</td>\n",
       "      <td>0</td>\n",
       "    </tr>\n",
       "    <tr>\n",
       "      <th>4</th>\n",
       "      <td>1.551308</td>\n",
       "      <td>1.232503</td>\n",
       "      <td>1</td>\n",
       "    </tr>\n",
       "  </tbody>\n",
       "</table>\n",
       "</div>"
      ],
      "text/plain": [
       "          x         y  target\n",
       "0  1.143847  1.954251       1\n",
       "1  5.041302  5.548459       0\n",
       "2  1.252901  1.662352       1\n",
       "3  5.098254  5.638338       0\n",
       "4  1.551308  1.232503       1"
      ]
     },
     "execution_count": 22,
     "metadata": {},
     "output_type": "execute_result"
    }
   ],
   "source": [
    "# Generate a dataset to evaluate our model\n",
    "evaluation_dataset = generate_data()\n",
    "evaluation_dataset = pandas.concat([evaluation_dataset[0], evaluation_dataset[1] , evaluation_dataset[2]], ignore_index=True) # concat dataset\n",
    "input_data = input_data.sample(frac=1).reset_index(drop=True) # Shuffle dataset\n",
    "input_data.head()"
   ]
  },
  {
   "cell_type": "code",
   "execution_count": 23,
   "metadata": {},
   "outputs": [],
   "source": [
    "evaluation_input = evaluation_dataset[[\"x\", \"y\"]].values\n",
    "evaluation_output = keras.utils.to_categorical(evaluation_dataset[\"target\"].values)"
   ]
  },
  {
   "cell_type": "code",
   "execution_count": 30,
   "metadata": {},
   "outputs": [
    {
     "name": "stdout",
     "output_type": "stream",
     "text": [
      "3000/3000 [==============================] - 0s 7us/step\n",
      "loss = 0.124230916679\n",
      "acc = 1.0\n"
     ]
    }
   ],
   "source": [
    "loss_and_metrics = model.evaluate(evaluation_input, evaluation_output, batch_size=128)\n",
    "print model.metrics_names[0], \"=\", loss_and_metrics[0]\n",
    "print model.metrics_names[1], \"=\", loss_and_metrics[1]"
   ]
  },
  {
   "cell_type": "code",
   "execution_count": null,
   "metadata": {},
   "outputs": [],
   "source": []
  },
  {
   "cell_type": "code",
   "execution_count": null,
   "metadata": {},
   "outputs": [],
   "source": []
  },
  {
   "cell_type": "code",
   "execution_count": null,
   "metadata": {},
   "outputs": [],
   "source": []
  }
 ],
 "metadata": {
  "kernelspec": {
   "display_name": "Python 2",
   "language": "python",
   "name": "python2"
  },
  "language_info": {
   "codemirror_mode": {
    "name": "ipython",
    "version": 2
   },
   "file_extension": ".py",
   "mimetype": "text/x-python",
   "name": "python",
   "nbconvert_exporter": "python",
   "pygments_lexer": "ipython2",
   "version": "2.7.11"
  }
 },
 "nbformat": 4,
 "nbformat_minor": 2
}
