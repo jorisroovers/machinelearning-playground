{
 "cells": [
  {
   "cell_type": "markdown",
   "metadata": {},
   "source": [
    "# Tensorflow"
   ]
  },
  {
   "cell_type": "code",
   "execution_count": 1,
   "metadata": {
    "collapsed": true
   },
   "outputs": [],
   "source": [
    "import tensorflow as tf\n",
    "import numpy as np"
   ]
  },
  {
   "cell_type": "markdown",
   "metadata": {},
   "source": [
    "In it's essence, tensorflow is a generic computing framework that allows you to define compute graphs (=definitions)\n",
    "without running them at the same time - essentially splitting the time of computation definition from its execution.\n",
    "\n",
    "Here's a hello world example: "
   ]
  },
  {
   "cell_type": "code",
   "execution_count": 2,
   "metadata": {},
   "outputs": [
    {
     "name": "stdout",
     "output_type": "stream",
     "text": [
      "Hello, TensorFlow!\n"
     ]
    }
   ],
   "source": [
    "hello = tf.constant('Hello, TensorFlow!')\n",
    "# To do anything useful in TF, you have the create a session and then run it\n",
    "# This is also true for just outputting the value of a TF variable/constant/placeholder.\n",
    "# While this is a trivial example to output the constant `hello`, \n",
    "# in real-world scenarios variables will be read from some dataset.\n",
    "sess = tf.Session()  \n",
    "print(sess.run(hello))"
   ]
  },
  {
   "cell_type": "markdown",
   "metadata": {},
   "source": [
    "Let's do a simple calculation:"
   ]
  },
  {
   "cell_type": "code",
   "execution_count": 3,
   "metadata": {},
   "outputs": [
    {
     "name": "stdout",
     "output_type": "stream",
     "text": [
      "Using tf.add: 8\n",
      "Using + operator: 8\n"
     ]
    }
   ],
   "source": [
    "num1 = tf.constant(5, name=\"number1\")\n",
    "num2 = tf.constant(3, name=\"number2\")\n",
    "summation = tf.add(num1, num2) # \n",
    "sess = tf.Session()  \n",
    "print \"Using tf.add:\", sess.run(summation)\n",
    "\n",
    "# Note that tensorflow also does operator overload, so you can do this too:\n",
    "result2 = num1 + num2\n",
    "print \"Using + operator:\", sess.run(result2)"
   ]
  },
  {
   "cell_type": "code",
   "execution_count": 4,
   "metadata": {},
   "outputs": [
    {
     "data": {
      "text/plain": [
       "[<tf.Operation 'Const' type=Const>,\n",
       " <tf.Operation 'number1' type=Const>,\n",
       " <tf.Operation 'number2' type=Const>,\n",
       " <tf.Operation 'Add' type=Add>,\n",
       " <tf.Operation 'add' type=Add>]"
      ]
     },
     "execution_count": 4,
     "metadata": {},
     "output_type": "execute_result"
    }
   ],
   "source": [
    "# Under the hood, TF builds a graph ands adds operations to them, you can show that graph like so:\n",
    "tf.get_default_graph().get_operations()"
   ]
  },
  {
   "cell_type": "markdown",
   "metadata": {},
   "source": [
    "Use **tf.placeholder** and TF sessions's **feed_dict** parameter if you want to specify the parameter values at execution time, like so:"
   ]
  },
  {
   "cell_type": "code",
   "execution_count": 5,
   "metadata": {},
   "outputs": [
    {
     "name": "stdout",
     "output_type": "stream",
     "text": [
      "6+5 = 11\n",
      "5+7 = 12\n"
     ]
    }
   ],
   "source": [
    "num3 = tf.placeholder(dtype=np.int32) # dtype required for placeholder, uses numpy types\n",
    "num4 = tf.placeholder(dtype=np.int32)\n",
    "res = sess.run(num3 + num4, feed_dict={num3: 6, num4: 5})\n",
    "print \"6+5 =\", res\n",
    "res2 = sess.run(num3 + num4, {num3: 5, num4: 7})  # `feed_dict` keyword arg is optional (=2nd positional arg)\n",
    "print \"5+7 =\", res2\n",
    "\n",
    "# Note that feed_dict is actually taking `num3` and `num4` as dict keys: passing the objects themselves as keys.\n",
    "# TF does some magic to make that work under the hood."
   ]
  },
  {
   "cell_type": "markdown",
   "metadata": {},
   "source": [
    "# Basic graph operations"
   ]
  },
  {
   "cell_type": "markdown",
   "metadata": {},
   "source": [
    "Standard vector and matrix operations:"
   ]
  },
  {
   "cell_type": "code",
   "execution_count": 6,
   "metadata": {},
   "outputs": [
    {
     "name": "stdout",
     "output_type": "stream",
     "text": [
      "** VECTORS **************************************************\n",
      "addition [4 6]\n",
      "element-wise multiplication [3 8]\n",
      "** MATRICES *************************************************\n",
      "addition\n",
      "[[  6.6   8.8]\n",
      " [ 11.   13.2]]\n",
      "element-wise multiplication\n",
      "[[  6.05  14.52]\n",
      " [ 25.41  38.72]]\n",
      "matrix multiplication\n",
      "[[ 22.99  26.62]\n",
      " [ 52.03  60.5 ]]\n"
     ]
    }
   ],
   "source": [
    "vec1 = tf.placeholder(dtype=np.int32)\n",
    "vec2 = tf.placeholder(dtype=np.int32)\n",
    "print \"** VECTORS \" + \"*\"* 50\n",
    "print \"addition\", sess.run(vec1 + vec2, {vec1: [1, 2], vec2: [3, 4]})\n",
    "print \"element-wise multiplication\", sess.run(vec1 * vec2, {vec1: [1, 2], vec2: [3, 4]})\n",
    "\n",
    "\n",
    "print \"** MATRICES \" + \"*\"* 49\n",
    "mat1 = tf.placeholder(shape=(2, 2), dtype=np.float64)\n",
    "mat2 = tf.placeholder(shape=(2, 2), dtype=np.float64)\n",
    "print \"addition\\n\", sess.run(mat1 + mat2, {mat1: [ [1.1, 2.2], [3.3, 4.4]], mat2: [[5.5, 6.6], [7.7, 8.8]]})\n",
    "print \"element-wise multiplication\\n\", sess.run(mat1 * mat2, {mat1: [ [1.1, 2.2], [3.3, 4.4]], mat2: [[5.5, 6.6], [7.7, 8.8]]})\n",
    "print \"matrix multiplication\\n\", sess.run(tf.matmul(mat1, mat2), {mat1: [ [1.1, 2.2], [3.3, 4.4]], mat2: [[5.5, 6.6], [7.7, 8.8]]})\n",
    "\n",
    "# print \"element-wise multiplication\", sess.run(vec1 * vec2, feed_dict={vec1: [1, 2], vec2: [3, 4]})"
   ]
  },
  {
   "cell_type": "markdown",
   "metadata": {},
   "source": [
    "Reduce operations can be used to reduce vectors or matrix colums into single numbers: similar to python's `reduce` function."
   ]
  },
  {
   "cell_type": "code",
   "execution_count": 7,
   "metadata": {},
   "outputs": [
    {
     "name": "stdout",
     "output_type": "stream",
     "text": [
      "Python reduce(): 6\n",
      "Tensorflow tf.reduce_sum(): 6\n",
      "Tensorflow tf.reduce_mean(): 2\n",
      "\n",
      "Matrix tf.reduce_sum()\n",
      "Tensorflow tf.reduce_sum(), axis=0: [ 9 12]\n",
      "Tensorflow tf.reduce_sum(), axis=1: [ 3  7 11]\n",
      "Tensorflow tf.reduce_sum(), axis=None: 21\n"
     ]
    }
   ],
   "source": [
    "# Python: reduce sum\n",
    "print \"Python reduce():\", reduce(lambda x, y: x + y, [1, 2, 3])\n",
    "# Tensorflow: reduce sum, reduce mean, etc\n",
    "vec3 = tf.placeholder(dtype=np.int32)\n",
    "print \"Tensorflow tf.reduce_sum():\", sess.run(tf.reduce_sum(vec3), {vec3: [1, 2, 3]})\n",
    "print \"Tensorflow tf.reduce_mean():\", sess.run(tf.reduce_mean(vec3), {vec3: [1, 2, 3]})\n",
    "\n",
    "# Reduce sum for matrix\n",
    "mat3 = tf.placeholder(shape=(3, 2), dtype=np.int32)\n",
    "print \"\\nMatrix tf.reduce_sum()\"\n",
    "# axis=0 => reduce colums: [1+3+5, 2+4+6] = [9, 12]\n",
    "# axis=1 => reduce colums: [1+2, 3+4, 5+6] = [3, 7, 11]\n",
    "# axis=None => reduce over axis 0, then reduce again: [1+3+5, 2+4+6] = [9, 12], [9+12] = 21\n",
    "print \"Tensorflow tf.reduce_sum(), axis=0:\", sess.run(tf.reduce_sum(mat3, axis=0), {mat3: [[1, 2], [3, 4], [5, 6]]})\n",
    "print \"Tensorflow tf.reduce_sum(), axis=1:\", sess.run(tf.reduce_sum(mat3, axis=1), {mat3: [[1, 2], [3, 4], [5, 6]]})\n",
    "print \"Tensorflow tf.reduce_sum(), axis=None:\", sess.run(tf.reduce_sum(mat3, axis=None), {mat3: [[1, 2], [3, 4], [5, 6]]})"
   ]
  },
  {
   "cell_type": "markdown",
   "metadata": {
    "collapsed": true
   },
   "source": [
    "# Sessions and graphs"
   ]
  },
  {
   "cell_type": "markdown",
   "metadata": {},
   "source": [
    "You can work with multiple sessions or multiple graphs "
   ]
  },
  {
   "cell_type": "code",
   "execution_count": 10,
   "metadata": {},
   "outputs": [
    {
     "name": "stdout",
     "output_type": "stream",
     "text": [
      "123\n",
      "[<tf.Operation 'Const' type=Const>, <tf.Operation 'number1' type=Const>, <tf.Operation 'number2' type=Const>, <tf.Operation 'Add' type=Add>, <tf.Operation 'add' type=Add>, <tf.Operation 'Placeholder' type=Placeholder>, <tf.Operation 'Placeholder_1' type=Placeholder>, <tf.Operation 'add_1' type=Add>, <tf.Operation 'add_2' type=Add>, <tf.Operation 'Placeholder_2' type=Placeholder>, <tf.Operation 'Placeholder_3' type=Placeholder>, <tf.Operation 'add_3' type=Add>, <tf.Operation 'mul' type=Mul>, <tf.Operation 'Placeholder_4' type=Placeholder>, <tf.Operation 'Placeholder_5' type=Placeholder>, <tf.Operation 'add_4' type=Add>, <tf.Operation 'mul_1' type=Mul>, <tf.Operation 'MatMul' type=MatMul>, <tf.Operation 'Placeholder_6' type=Placeholder>, <tf.Operation 'Rank' type=Rank>, <tf.Operation 'range/start' type=Const>, <tf.Operation 'range/delta' type=Const>, <tf.Operation 'range' type=Range>, <tf.Operation 'Sum' type=Sum>, <tf.Operation 'Rank_1' type=Rank>, <tf.Operation 'range_1/start' type=Const>, <tf.Operation 'range_1/delta' type=Const>, <tf.Operation 'range_1' type=Range>, <tf.Operation 'Mean' type=Mean>, <tf.Operation 'Placeholder_7' type=Placeholder>, <tf.Operation 'Sum_1/reduction_indices' type=Const>, <tf.Operation 'Sum_1' type=Sum>, <tf.Operation 'Sum_2/reduction_indices' type=Const>, <tf.Operation 'Sum_2' type=Sum>, <tf.Operation 'Const_1' type=Const>, <tf.Operation 'Sum_3' type=Sum>, <tf.Operation 'Const_2' type=Const>, <tf.Operation 'Const_3' type=Const>, <tf.Operation 'Const_4' type=Const>]\n"
     ]
    }
   ],
   "source": [
    "with tf.Session() as sess2:\n",
    "    foo = tf.constant(123)\n",
    "    print sess2.run(foo)\n",
    "    print sess2.graph.get_operations()\n",
    "    \n"
   ]
  },
  {
   "cell_type": "markdown",
   "metadata": {},
   "source": [
    "Note that multiple sessions can reference the same graph. If you don't explicitely tell the **session** which **graph** to use, it will use the default graph. The result is that if you do multiple computations in tensorflow on this default graph, that there will be multiple disjointed subgraphs as part of it, one for each computation. This is why you see this many operations printed above."
   ]
  },
  {
   "cell_type": "code",
   "execution_count": 12,
   "metadata": {},
   "outputs": [
    {
     "name": "stdout",
     "output_type": "stream",
     "text": [
      "456\n",
      "[<tf.Operation 'Const' type=Const>]\n"
     ]
    }
   ],
   "source": [
    "# Using a seperate graph:\n",
    "with tf.Session(graph=tf.Graph()) as sess3:\n",
    "    bar = tf.constant(456)\n",
    "    print sess3.run(bar)\n",
    "    print sess3.graph.get_operations()"
   ]
  }
 ],
 "metadata": {
  "kernelspec": {
   "display_name": "Python 2",
   "language": "python",
   "name": "python2"
  },
  "language_info": {
   "codemirror_mode": {
    "name": "ipython",
    "version": 2
   },
   "file_extension": ".py",
   "mimetype": "text/x-python",
   "name": "python",
   "nbconvert_exporter": "python",
   "pygments_lexer": "ipython2",
   "version": "2.7.11"
  }
 },
 "nbformat": 4,
 "nbformat_minor": 2
}
