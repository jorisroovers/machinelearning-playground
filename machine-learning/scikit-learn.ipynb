{
 "cells": [
  {
   "cell_type": "markdown",
   "metadata": {},
   "source": [
    "# API Design\n",
    "\n",
    "\n",
    "Interface    |\n",
    "-------------|--------\n",
    "Estimators   | Any object that can estimate some parameters based on a dataset. Needs a ```fit()``` method.\n",
    "Transformers | Subclass of estimator that can also transform a dataset. Object needs a ```transform()``` method. Convenience method ```fit_transform()``` which is the equivalent of calling ```fit()``` and then ```transform()``` (but sometimes fit_transform() is optimized and runs much faster).\n",
    "Predictors   | Estimators capable of making predictions given a dataset. E.g.: a ```LinearRegression``` model. Has a ```predict()``` method and a ```score()``` method that measures the quality of the predictions given a test set.\n",
    "\n",
    "\n",
    "Note that scikit-learn doesn't have a strict subclass hierarchy; instead it leverages ducktyping: every class that has a ```fit()``` method (and some other less important methods, not described here) is effectively an Estimator. Same for Transformers with ```transform()```, and Predictors with ```predict()```, etc."
   ]
  },
  {
   "cell_type": "markdown",
   "metadata": {},
   "source": [
    "## Pipelines\n",
    "\n",
    "Estimators, Transformers and Predictors can be combined into pipelines.\n",
    "\n",
    "```python\n",
    "from sklearn.pipeline \n",
    "import Pipelinefrom sklearn.preprocessing \n",
    "import StandardScaler\n",
    "num_pipeline = Pipeline([('imputer', Imputer(strategy=\"median\")),\n",
    "                         ('attribs_adder', CombinedAttributesAdder()),\n",
    "                         ('std_scaler', StandardScaler()),])\n",
    "housing_num_tr = num_pipeline.fit_transform(housing_num)\n",
    "```\n",
    "\n",
    "The pipeline exposes the same methods as the final estimator. In this example, the last estimator is a ```StandardScaler```, which is a transformer, so the pipeline has a ```transform()``` method that applies all the transforms to the data in sequence.\n",
    "\n",
    "It's also possible to create a sort of compound pipelines (i.e. pipelines made up of different pipelines) using ```FeatureUnion```."
   ]
  },
  {
   "cell_type": "code",
   "execution_count": null,
   "metadata": {
    "collapsed": true
   },
   "outputs": [],
   "source": []
  }
 ],
 "metadata": {
  "kernelspec": {
   "display_name": "Python 2",
   "language": "python",
   "name": "python2"
  },
  "language_info": {
   "codemirror_mode": {
    "name": "ipython",
    "version": 2
   },
   "file_extension": ".py",
   "mimetype": "text/x-python",
   "name": "python",
   "nbconvert_exporter": "python",
   "pygments_lexer": "ipython2",
   "version": "2.7.13"
  }
 },
 "nbformat": 4,
 "nbformat_minor": 2
}
