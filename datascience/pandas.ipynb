{
 "cells": [
  {
   "cell_type": "markdown",
   "metadata": {},
   "source": [
    "# Pandas - intro\n",
    "This is a notebook primarily for myself to play around with pandas a bit."
   ]
  },
  {
   "cell_type": "markdown",
   "metadata": {},
   "source": [
    "One of the main concepts in Pandas is that of the ```DataFrame```, which is basically just a table. In order to create a dataframe, you need to have a python list that contains dictionaries that all have the same set of keys.\n",
    "\n",
    "For example:"
   ]
  },
  {
   "cell_type": "code",
   "execution_count": 41,
   "metadata": {
    "collapsed": false
   },
   "outputs": [],
   "source": [
    "# python list of dictionaries that all have the same keys\n",
    "customers = [\n",
    "    {'name': \"John\", 'last_name': \"Smith\", 'age': 43, 'customer_nr': 12345 },\n",
    "    {'name': \"Mary\", 'last_name': \"Potter\", 'age': 25, 'customer_nr': 67889 },\n",
    "    {'name': \"Rose\", 'last_name': \"Harrison\", 'age': 39, 'customer_nr': 23456 },\n",
    "    {'name': \"John\", 'last_name': \"Ford\", 'age': 56, 'customer_nr': 99999 },  \n",
    "    {'name': \"Patrick\", 'last_name': \"Harrison\", 'age': 41, 'customer_nr': 7777 },\n",
    "]\n",
    "# print customers"
   ]
  },
  {
   "cell_type": "code",
   "execution_count": 42,
   "metadata": {
    "collapsed": false
   },
   "outputs": [
    {
     "name": "stdout",
     "output_type": "stream",
     "text": [
      "   age  customer_nr last_name     name\n",
      "0   43        12345     Smith     John\n",
      "1   25        67889    Potter     Mary\n",
      "2   39        23456  Harrison     Rose\n",
      "3   56        99999      Ford     John\n",
      "4   41         7777  Harrison  Patrick\n"
     ]
    }
   ],
   "source": [
    "# let's create a dataframe from this\n",
    "import pandas as pd\n",
    "customers_df = pd.DataFrame(customers)\n",
    "print customers_df # As you'll notice, pandas does pretty printing!"
   ]
  },
  {
   "cell_type": "markdown",
   "metadata": {},
   "source": [
    "Pandas then has a bunch of methods on the DataFrame that allows you to easily manipulate the data."
   ]
  },
  {
   "cell_type": "code",
   "execution_count": 43,
   "metadata": {
    "collapsed": false
   },
   "outputs": [
    {
     "data": {
      "text/plain": [
       "0       John\n",
       "1       Mary\n",
       "2       Rose\n",
       "3       John\n",
       "4    Patrick\n",
       "Name: name, dtype: object"
      ]
     },
     "execution_count": 43,
     "metadata": {},
     "output_type": "execute_result"
    }
   ],
   "source": [
    "# accessing a certain column\n",
    "customers_df['name']"
   ]
  },
  {
   "cell_type": "code",
   "execution_count": 44,
   "metadata": {
    "collapsed": false,
    "scrolled": true
   },
   "outputs": [
    {
     "data": {
      "text/plain": [
       "John       2\n",
       "Mary       1\n",
       "Patrick    1\n",
       "Rose       1\n",
       "Name: name, dtype: int64"
      ]
     },
     "execution_count": 44,
     "metadata": {},
     "output_type": "execute_result"
    }
   ],
   "source": [
    "# count occurences\n",
    "customers_df['name'].value_counts() # there are 2 john's!"
   ]
  },
  {
   "cell_type": "code",
   "execution_count": 45,
   "metadata": {
    "collapsed": false
   },
   "outputs": [
    {
     "data": {
      "text/html": [
       "<div>\n",
       "<table border=\"1\" class=\"dataframe\">\n",
       "  <thead>\n",
       "    <tr style=\"text-align: right;\">\n",
       "      <th></th>\n",
       "      <th>age</th>\n",
       "      <th>customer_nr</th>\n",
       "      <th>last_name</th>\n",
       "      <th>name</th>\n",
       "    </tr>\n",
       "  </thead>\n",
       "  <tbody>\n",
       "    <tr>\n",
       "      <th>0</th>\n",
       "      <td>43</td>\n",
       "      <td>12345</td>\n",
       "      <td>Smith</td>\n",
       "      <td>John</td>\n",
       "    </tr>\n",
       "    <tr>\n",
       "      <th>3</th>\n",
       "      <td>56</td>\n",
       "      <td>99999</td>\n",
       "      <td>Ford</td>\n",
       "      <td>John</td>\n",
       "    </tr>\n",
       "    <tr>\n",
       "      <th>4</th>\n",
       "      <td>41</td>\n",
       "      <td>7777</td>\n",
       "      <td>Harrison</td>\n",
       "      <td>Patrick</td>\n",
       "    </tr>\n",
       "  </tbody>\n",
       "</table>\n",
       "</div>"
      ],
      "text/plain": [
       "   age  customer_nr last_name     name\n",
       "0   43        12345     Smith     John\n",
       "3   56        99999      Ford     John\n",
       "4   41         7777  Harrison  Patrick"
      ]
     },
     "execution_count": 45,
     "metadata": {},
     "output_type": "execute_result"
    }
   ],
   "source": [
    "# select all customers that are older than 40\n",
    "# Note the use of 3\n",
    "customers_df[customers_df['age'] > 40]"
   ]
  },
  {
   "cell_type": "code",
   "execution_count": 46,
   "metadata": {
    "collapsed": false
   },
   "outputs": [
    {
     "data": {
      "text/plain": [
       "<matplotlib.axes._subplots.AxesSubplot at 0x10c5c1c10>"
      ]
     },
     "execution_count": 46,
     "metadata": {},
     "output_type": "execute_result"
    },
    {
     "data": {
      "image/png": "[encoded data removed]",
      "text/plain": [
       "<matplotlib.figure.Figure at 0x10cebbfd0>"
      ]
     },
     "metadata": {},
     "output_type": "display_data"
    }
   ],
   "source": [
    "# you can plot counts (do matplotlib plots inline)\n",
    "%matplotlib inline \n",
    "name_counts = customers_df['name'].value_counts()\n",
    "name_counts.plot(kind='barh') # barh = bar horizontal"
   ]
  },
  {
   "cell_type": "code",
   "execution_count": 48,
   "metadata": {
    "collapsed": true
   },
   "outputs": [],
   "source": [
    "# Execute this cell to get more info on all the possible ways to plot (note the question mark at the end to get help)\n",
    "# name_counts.plot?\n",
    "# Use 2 questions marks to see the source code\n",
    "# name_counts.plot??\n"
   ]
  },
  {
   "cell_type": "code",
   "execution_count": null,
   "metadata": {
    "collapsed": true
   },
   "outputs": [],
   "source": [
    "# Let's now get a real dataset\n"
   ]
  }
 ],
 "metadata": {
  "kernelspec": {
   "display_name": "Python 2",
   "language": "python",
   "name": "python2"
  },
  "language_info": {
   "codemirror_mode": {
    "name": "ipython",
    "version": 2
   },
   "file_extension": ".py",
   "mimetype": "text/x-python",
   "name": "python",
   "nbconvert_exporter": "python",
   "pygments_lexer": "ipython2",
   "version": "2.7.10"
  }
 },
 "nbformat": 4,
 "nbformat_minor": 0
}
