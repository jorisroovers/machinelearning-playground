{
 "cells": [
  {
   "cell_type": "markdown",
   "metadata": {},
   "source": [
    "Two of the most important datastructures in Pandas are the ```Series``` and ```DataFrame```.\n",
    "# Series\n",
    "A pandas ```Series``` is just an array with an associated index. Basically just an associative array, or in python terms, a fixed length ordered dictionary."
   ]
  },
  {
   "cell_type": "code",
   "execution_count": 3,
   "metadata": {},
   "outputs": [
    {
     "data": {
      "text/plain": [
       "0    1\n",
       "1    2\n",
       "2    3\n",
       "3    4\n",
       "4    5\n",
       "dtype: int64"
      ]
     },
     "execution_count": 3,
     "metadata": {},
     "output_type": "execute_result"
    }
   ],
   "source": [
    "from pandas import Series\n",
    "Series([1,2,3,4,5])\n",
    "# Note the index on the left hand side when printed"
   ]
  },
  {
   "cell_type": "code",
   "execution_count": 4,
   "metadata": {},
   "outputs": [
    {
     "data": {
      "text/plain": [
       "(array([1, 2, 3, 4, 5]), RangeIndex(start=0, stop=5, step=1))"
      ]
     },
     "execution_count": 4,
     "metadata": {},
     "output_type": "execute_result"
    }
   ],
   "source": [
    "a = Series([1, 2, 3, 4, 5])\n",
    "a.values, a.index # Notice how the values of a series is just an array and the Index is a special type"
   ]
  },
  {
   "cell_type": "code",
   "execution_count": 24,
   "metadata": {},
   "outputs": [
    {
     "data": {
      "text/plain": [
       "0    1\n",
       "1    2\n",
       "2    3\n",
       "3    4\n",
       "Name: My Series, dtype: int64"
      ]
     },
     "execution_count": 24,
     "metadata": {},
     "output_type": "execute_result"
    }
   ],
   "source": [
    "# By default a Series doesn't have a name, but you can assign it one:\n",
    "Series([1,2,3,4], name=\"My Series\")"
   ]
  },
  {
   "cell_type": "code",
   "execution_count": 5,
   "metadata": {},
   "outputs": [
    {
     "data": {
      "text/plain": [
       "a    1\n",
       "b    2\n",
       "c    3\n",
       "d    4\n",
       "e    5\n",
       "dtype: int64"
      ]
     },
     "execution_count": 5,
     "metadata": {},
     "output_type": "execute_result"
    }
   ],
   "source": [
    "# You can change the index if you want\n",
    "indexed_series = Series([1,2,3,4,5], index=['a','b','c','d','e'])\n",
    "indexed_series"
   ]
  },
  {
   "cell_type": "code",
   "execution_count": 6,
   "metadata": {},
   "outputs": [
    {
     "data": {
      "text/plain": [
       "(3, 1)"
      ]
     },
     "execution_count": 6,
     "metadata": {},
     "output_type": "execute_result"
    }
   ],
   "source": [
    "# You use the assigned index or a numeric index to access elements\n",
    "indexed_series['c'], indexed_series[0]\n",
    "# In other words, a Series is really just an ordered dict"
   ]
  },
  {
   "cell_type": "code",
   "execution_count": 67,
   "metadata": {},
   "outputs": [
    {
     "data": {
      "text/plain": [
       "Belgium        10\n",
       "France         21\n",
       "Netherlands     5\n",
       "dtype: int64"
      ]
     },
     "execution_count": 67,
     "metadata": {},
     "output_type": "execute_result"
    }
   ],
   "source": [
    "# In fact, you can create a series right from a python dict\n",
    "myseries = Series({'Netherlands': 5, 'Belgium': 10, 'France': 21})\n",
    "myseries"
   ]
  },
  {
   "cell_type": "code",
   "execution_count": 68,
   "metadata": {},
   "outputs": [
    {
     "data": {
      "text/plain": [
       "(10, 5)"
      ]
     },
     "execution_count": 68,
     "metadata": {},
     "output_type": "execute_result"
    }
   ],
   "source": [
    "# You can access it by number of by index, note that Belgium comes first as the dictionary is sorted by key\n",
    "myseries[0], myseries['Netherlands']"
   ]
  },
  {
   "cell_type": "markdown",
   "metadata": {
    "collapsed": true
   },
   "source": [
    "Like with regular numpy arrays, you can create boolean masks on ```Series``` and use them to filter out certain values in the ```Series```, like so:"
   ]
  },
  {
   "cell_type": "code",
   "execution_count": 69,
   "metadata": {},
   "outputs": [
    {
     "data": {
      "text/plain": [
       "France         21\n",
       "Netherlands     5\n",
       "dtype: int64"
      ]
     },
     "execution_count": 69,
     "metadata": {},
     "output_type": "execute_result"
    }
   ],
   "source": [
    "myseries[myseries % 2 == 1] # filter out odd values"
   ]
  },
  {
   "cell_type": "code",
   "execution_count": 71,
   "metadata": {},
   "outputs": [
    {
     "data": {
      "text/plain": [
       "Netherlands     5\n",
       "Belgium        10\n",
       "France         21\n",
       "dtype: int64"
      ]
     },
     "execution_count": 71,
     "metadata": {},
     "output_type": "execute_result"
    }
   ],
   "source": [
    "# Sorting by value:\n",
    "myseries.sort_values()"
   ]
  },
  {
   "cell_type": "markdown",
   "metadata": {},
   "source": [
    "A useful feature about ```Series``` is that the operations that can act on it are often smart enough to combine values by index. For example, when adding to ```Series``` together, the values of the same indices (=keys) will automatically be summed together, like so:"
   ]
  },
  {
   "cell_type": "code",
   "execution_count": 13,
   "metadata": {},
   "outputs": [
    {
     "data": {
      "text/plain": [
       "Belgium        11.0\n",
       "France         12.0\n",
       "Netherlands     7.0\n",
       "UK              NaN\n",
       "USA             NaN\n",
       "dtype: float64"
      ]
     },
     "execution_count": 13,
     "metadata": {},
     "output_type": "execute_result"
    }
   ],
   "source": [
    "a_dict = {'Netherlands': 5, 'Belgium': 10, 'France': 21, 'UK': 5}\n",
    "b_dict = {'Netherlands': 2, 'Belgium': 1, 'France': -9, 'USA': 4}\n",
    "a = Series(a_dict)\n",
    "b = Series(b_dict)\n",
    "a+b"
   ]
  },
  {
   "cell_type": "markdown",
   "metadata": {},
   "source": [
    "This is not supported in python by default:"
   ]
  },
  {
   "cell_type": "code",
   "execution_count": 14,
   "metadata": {},
   "outputs": [
    {
     "ename": "TypeError",
     "evalue": "unsupported operand type(s) for +: 'dict' and 'dict'",
     "output_type": "error",
     "traceback": [
      "\u001b[0;31m---------------------------------------------------------------------------\u001b[0m",
      "\u001b[0;31mTypeError\u001b[0m                                 Traceback (most recent call last)",
      "\u001b[0;32m<ipython-input-14-0a1691d054e4>\u001b[0m in \u001b[0;36m<module>\u001b[0;34m()\u001b[0m\n\u001b[0;32m----> 1\u001b[0;31m \u001b[0ma_dict\u001b[0m \u001b[0;34m+\u001b[0m \u001b[0mb_dict\u001b[0m \u001b[0;31m# Doesn't work, TypeError\u001b[0m\u001b[0;34m\u001b[0m\u001b[0m\n\u001b[0m",
      "\u001b[0;31mTypeError\u001b[0m: unsupported operand type(s) for +: 'dict' and 'dict'"
     ]
    }
   ],
   "source": [
    "a_dict + b_dict # Doesn't work, TypeError"
   ]
  },
  {
   "cell_type": "markdown",
   "metadata": {},
   "source": [
    "# DataFrame"
   ]
  },
  {
   "cell_type": "markdown",
   "metadata": {},
   "source": [
    "Where a ```Series``` is like a single associative array, a ```DataFrame``` is a rectangular table of data which contains an ordered collection of columns (i.e. ```Series```)."
   ]
  },
  {
   "cell_type": "code",
   "execution_count": 15,
   "metadata": {
    "collapsed": true
   },
   "outputs": [],
   "source": [
    "# python list of dictionaries that all have the same keys\n",
    "customers = [\n",
    "    {'name': \"John\", 'last_name': \"Smith\", 'age': 43, 'customer_nr': 12345 },\n",
    "    {'name': \"Mary\", 'last_name': \"Potter\", 'age': 25, 'customer_nr': 67889 },\n",
    "    {'name': \"Rose\", 'last_name': \"Harrison\", 'age': 39, 'customer_nr': 23456 },\n",
    "    {'name': \"John\", 'last_name': \"Ford\", 'age': 56, 'customer_nr': 99999 },  \n",
    "    {'name': \"Patrick\", 'last_name': \"Harrison\", 'age': 41, 'customer_nr': 7777 },\n",
    "]\n",
    "# print customers"
   ]
  },
  {
   "cell_type": "code",
   "execution_count": 16,
   "metadata": {},
   "outputs": [
    {
     "name": "stdout",
     "output_type": "stream",
     "text": [
      "   age  customer_nr last_name     name\n",
      "0   43        12345     Smith     John\n",
      "1   25        67889    Potter     Mary\n",
      "2   39        23456  Harrison     Rose\n",
      "3   56        99999      Ford     John\n",
      "4   41         7777  Harrison  Patrick\n"
     ]
    }
   ],
   "source": [
    "# let's create a dataframe from this\n",
    "import pandas as pd\n",
    "customers_df = pd.DataFrame(customers)\n",
    "print customers_df # As you'll notice, pandas does pretty printing!"
   ]
  },
  {
   "cell_type": "code",
   "execution_count": 18,
   "metadata": {},
   "outputs": [
    {
     "name": "stdout",
     "output_type": "stream",
     "text": [
      "   age  customer_nr last_name     name\n",
      "0   43        12345     Smith     John\n",
      "1   25        67889    Potter     Mary\n",
      "2   39        23456  Harrison     Rose\n",
      "3   56        99999      Ford     John\n",
      "4   41         7777  Harrison  Patrick\n"
     ]
    }
   ],
   "source": [
    "# Alternative way to define a the same thing\n",
    "customers = {\n",
    "    'name': [\"John\", \"Mary\", \"Rose\", \"John\", \"Patrick\"],\n",
    "    'last_name': [\"Smith\", \"Potter\", \"Harrison\", \"Ford\", \"Harrison\"],\n",
    "    'age': [43,25,39,56,41],\n",
    "    'customer_nr': [12345, 67889, 23456,99999,7777]\n",
    "}\n",
    "customers_df = pd.DataFrame(customers)\n",
    "print customers_df"
   ]
  },
  {
   "cell_type": "code",
   "execution_count": 47,
   "metadata": {},
   "outputs": [
    {
     "data": {
      "text/html": [
       "<div>\n",
       "<table border=\"1\" class=\"dataframe\">\n",
       "  <thead>\n",
       "    <tr style=\"text-align: right;\">\n",
       "      <th></th>\n",
       "      <th>Nevada</th>\n",
       "      <th>Ohio</th>\n",
       "    </tr>\n",
       "  </thead>\n",
       "  <tbody>\n",
       "    <tr>\n",
       "      <th>2000</th>\n",
       "      <td>NaN</td>\n",
       "      <td>1.5</td>\n",
       "    </tr>\n",
       "    <tr>\n",
       "      <th>2001</th>\n",
       "      <td>2.4</td>\n",
       "      <td>1.7</td>\n",
       "    </tr>\n",
       "    <tr>\n",
       "      <th>2002</th>\n",
       "      <td>2.9</td>\n",
       "      <td>3.6</td>\n",
       "    </tr>\n",
       "  </tbody>\n",
       "</table>\n",
       "</div>"
      ],
      "text/plain": [
       "      Nevada  Ohio\n",
       "2000     NaN   1.5\n",
       "2001     2.4   1.7\n",
       "2002     2.9   3.6"
      ]
     },
     "execution_count": 47,
     "metadata": {},
     "output_type": "execute_result"
    }
   ],
   "source": [
    "# By default, rows are labeled by numbers, but you can also give them labels, like so\n",
    "population = {'Nevada': {2001: 2.4, 2002: 2.9},\n",
    "                 'Ohio': {2000: 1.5, 2001: 1.7, 2002: 3.6}}\n",
    "pd.DataFrame(population)"
   ]
  },
  {
   "cell_type": "markdown",
   "metadata": {},
   "source": [
    "## Dataframe manipulation"
   ]
  },
  {
   "cell_type": "markdown",
   "metadata": {},
   "source": [
    "Pandas then has a bunch of methods on the DataFrame that allows you to easily manipulate the data."
   ]
  },
  {
   "cell_type": "code",
   "execution_count": 33,
   "metadata": {},
   "outputs": [
    {
     "name": "stdout",
     "output_type": "stream",
     "text": [
      "0       John\n",
      "1       Mary\n",
      "2       Rose\n",
      "3       John\n",
      "4    Patrick\n",
      "Name: name, dtype: object \n",
      "\n",
      "0       John\n",
      "1       Mary\n",
      "2       Rose\n",
      "3       John\n",
      "4    Patrick\n",
      "Name: name, dtype: object\n"
     ]
    }
   ],
   "source": [
    "# accessing a certain column (this is a Series that get's returned), either by key or attribute name\n",
    "print customers_df['name'], \"\\n\\n\", customers_df.name"
   ]
  },
  {
   "cell_type": "code",
   "execution_count": 36,
   "metadata": {},
   "outputs": [
    {
     "data": {
      "text/plain": [
       "age                  39\n",
       "customer_nr       23456\n",
       "last_name      Harrison\n",
       "name               Rose\n",
       "Name: 2, dtype: object"
      ]
     },
     "execution_count": 36,
     "metadata": {},
     "output_type": "execute_result"
    }
   ],
   "source": [
    "# To access a certain row, use df.loc:\n",
    "customers_df.loc[2] # Note that rows are also Series (you can tell from the output because it has a Name and dtype)"
   ]
  },
  {
   "cell_type": "code",
   "execution_count": 72,
   "metadata": {},
   "outputs": [
    {
     "data": {
      "text/html": [
       "<div>\n",
       "<table border=\"1\" class=\"dataframe\">\n",
       "  <thead>\n",
       "    <tr style=\"text-align: right;\">\n",
       "      <th></th>\n",
       "      <th>0</th>\n",
       "      <th>1</th>\n",
       "      <th>2</th>\n",
       "      <th>3</th>\n",
       "      <th>4</th>\n",
       "    </tr>\n",
       "  </thead>\n",
       "  <tbody>\n",
       "    <tr>\n",
       "      <th>age</th>\n",
       "      <td>43</td>\n",
       "      <td>25</td>\n",
       "      <td>39</td>\n",
       "      <td>56</td>\n",
       "      <td>41</td>\n",
       "    </tr>\n",
       "    <tr>\n",
       "      <th>customer_nr</th>\n",
       "      <td>1234</td>\n",
       "      <td>1234</td>\n",
       "      <td>1234</td>\n",
       "      <td>1234</td>\n",
       "      <td>1234</td>\n",
       "    </tr>\n",
       "    <tr>\n",
       "      <th>last_name</th>\n",
       "      <td>Smith</td>\n",
       "      <td>Potter</td>\n",
       "      <td>Harrison</td>\n",
       "      <td>Ford</td>\n",
       "      <td>Harrison</td>\n",
       "    </tr>\n",
       "    <tr>\n",
       "      <th>name</th>\n",
       "      <td>John</td>\n",
       "      <td>Mary</td>\n",
       "      <td>Rose</td>\n",
       "      <td>John</td>\n",
       "      <td>Patrick</td>\n",
       "    </tr>\n",
       "    <tr>\n",
       "      <th>signup_date</th>\n",
       "      <td>2017-05-25 21:27:58.376248</td>\n",
       "      <td>2017-05-25 21:27:58.376248</td>\n",
       "      <td>2017-05-25 21:27:58.376248</td>\n",
       "      <td>2017-05-25 21:27:58.376248</td>\n",
       "      <td>2017-05-25 21:27:58.376248</td>\n",
       "    </tr>\n",
       "  </tbody>\n",
       "</table>\n",
       "</div>"
      ],
      "text/plain": [
       "                                      0                           1  \\\n",
       "age                                  43                          25   \n",
       "customer_nr                        1234                        1234   \n",
       "last_name                         Smith                      Potter   \n",
       "name                               John                        Mary   \n",
       "signup_date  2017-05-25 21:27:58.376248  2017-05-25 21:27:58.376248   \n",
       "\n",
       "                                      2                           3  \\\n",
       "age                                  39                          56   \n",
       "customer_nr                        1234                        1234   \n",
       "last_name                      Harrison                        Ford   \n",
       "name                               Rose                        John   \n",
       "signup_date  2017-05-25 21:27:58.376248  2017-05-25 21:27:58.376248   \n",
       "\n",
       "                                      4  \n",
       "age                                  41  \n",
       "customer_nr                        1234  \n",
       "last_name                      Harrison  \n",
       "name                            Patrick  \n",
       "signup_date  2017-05-25 21:27:58.376248  "
      ]
     },
     "execution_count": 72,
     "metadata": {},
     "output_type": "execute_result"
    }
   ],
   "source": [
    "# Transpose:\n",
    "customers_df.T"
   ]
  },
  {
   "cell_type": "code",
   "execution_count": 74,
   "metadata": {},
   "outputs": [
    {
     "data": {
      "text/html": [
       "<div>\n",
       "<table border=\"1\" class=\"dataframe\">\n",
       "  <thead>\n",
       "    <tr style=\"text-align: right;\">\n",
       "      <th></th>\n",
       "      <th>age</th>\n",
       "      <th>customer_nr</th>\n",
       "      <th>last_name</th>\n",
       "      <th>name</th>\n",
       "      <th>signup_date</th>\n",
       "    </tr>\n",
       "  </thead>\n",
       "  <tbody>\n",
       "    <tr>\n",
       "      <th>1</th>\n",
       "      <td>25</td>\n",
       "      <td>1234</td>\n",
       "      <td>Potter</td>\n",
       "      <td>Mary</td>\n",
       "      <td>2017-05-25 21:27:58.376248</td>\n",
       "    </tr>\n",
       "    <tr>\n",
       "      <th>2</th>\n",
       "      <td>39</td>\n",
       "      <td>1234</td>\n",
       "      <td>Harrison</td>\n",
       "      <td>Rose</td>\n",
       "      <td>2017-05-25 21:27:58.376248</td>\n",
       "    </tr>\n",
       "    <tr>\n",
       "      <th>4</th>\n",
       "      <td>41</td>\n",
       "      <td>1234</td>\n",
       "      <td>Harrison</td>\n",
       "      <td>Patrick</td>\n",
       "      <td>2017-05-25 21:27:58.376248</td>\n",
       "    </tr>\n",
       "    <tr>\n",
       "      <th>0</th>\n",
       "      <td>43</td>\n",
       "      <td>1234</td>\n",
       "      <td>Smith</td>\n",
       "      <td>John</td>\n",
       "      <td>2017-05-25 21:27:58.376248</td>\n",
       "    </tr>\n",
       "    <tr>\n",
       "      <th>3</th>\n",
       "      <td>56</td>\n",
       "      <td>1234</td>\n",
       "      <td>Ford</td>\n",
       "      <td>John</td>\n",
       "      <td>2017-05-25 21:27:58.376248</td>\n",
       "    </tr>\n",
       "  </tbody>\n",
       "</table>\n",
       "</div>"
      ],
      "text/plain": [
       "   age  customer_nr last_name     name                signup_date\n",
       "1   25         1234    Potter     Mary 2017-05-25 21:27:58.376248\n",
       "2   39         1234  Harrison     Rose 2017-05-25 21:27:58.376248\n",
       "4   41         1234  Harrison  Patrick 2017-05-25 21:27:58.376248\n",
       "0   43         1234     Smith     John 2017-05-25 21:27:58.376248\n",
       "3   56         1234      Ford     John 2017-05-25 21:27:58.376248"
      ]
     },
     "execution_count": 74,
     "metadata": {},
     "output_type": "execute_result"
    }
   ],
   "source": [
    "# Sort by a certain column:\n",
    "customers_df.sort_values(by='age') # You can also sort by multiple columns by passing an array"
   ]
  },
  {
   "cell_type": "code",
   "execution_count": 20,
   "metadata": {},
   "outputs": [
    {
     "data": {
      "text/plain": [
       "John       2\n",
       "Mary       1\n",
       "Patrick    1\n",
       "Rose       1\n",
       "Name: name, dtype: int64"
      ]
     },
     "execution_count": 20,
     "metadata": {},
     "output_type": "execute_result"
    }
   ],
   "source": [
    "# count occurences\n",
    "customers_df['name'].value_counts() # there are 2 johns!"
   ]
  },
  {
   "cell_type": "code",
   "execution_count": 78,
   "metadata": {},
   "outputs": [
    {
     "name": "stdout",
     "output_type": "stream",
     "text": [
      "age             204\n",
      "customer_nr    6170\n",
      "dtype: int64 \n",
      "\n",
      "             age  customer_nr\n",
      "count   5.000000          5.0\n",
      "mean   40.800000       1234.0\n",
      "std    11.054411          0.0\n",
      "min    25.000000       1234.0\n",
      "25%    39.000000       1234.0\n",
      "50%    41.000000       1234.0\n",
      "75%    43.000000       1234.0\n",
      "max    56.000000       1234.0\n"
     ]
    }
   ],
   "source": [
    "# sum() sums that columns that have a dtype that can be summed. \n",
    "# describe() provides statistical data for the columns with a dtype for which it can be done\n",
    "# There's a lot of more of these convenience functions like mean, median, prod, std, var, min/max, etc.\n",
    "print customers_df.sum(), \"\\n\\n\", customers_df.describe() "
   ]
  },
  {
   "cell_type": "code",
   "execution_count": 40,
   "metadata": {},
   "outputs": [
    {
     "data": {
      "text/html": [
       "<div>\n",
       "<table border=\"1\" class=\"dataframe\">\n",
       "  <thead>\n",
       "    <tr style=\"text-align: right;\">\n",
       "      <th></th>\n",
       "      <th>age</th>\n",
       "      <th>customer_nr</th>\n",
       "      <th>last_name</th>\n",
       "      <th>name</th>\n",
       "      <th>signup_date</th>\n",
       "    </tr>\n",
       "  </thead>\n",
       "  <tbody>\n",
       "    <tr>\n",
       "      <th>0</th>\n",
       "      <td>43</td>\n",
       "      <td>1234</td>\n",
       "      <td>Smith</td>\n",
       "      <td>John</td>\n",
       "      <td>2017-05-25 21:27:58.376248</td>\n",
       "    </tr>\n",
       "    <tr>\n",
       "      <th>1</th>\n",
       "      <td>25</td>\n",
       "      <td>1234</td>\n",
       "      <td>Potter</td>\n",
       "      <td>Mary</td>\n",
       "      <td>2017-05-25 21:27:58.376248</td>\n",
       "    </tr>\n",
       "    <tr>\n",
       "      <th>2</th>\n",
       "      <td>39</td>\n",
       "      <td>1234</td>\n",
       "      <td>Harrison</td>\n",
       "      <td>Rose</td>\n",
       "      <td>2017-05-25 21:27:58.376248</td>\n",
       "    </tr>\n",
       "    <tr>\n",
       "      <th>3</th>\n",
       "      <td>56</td>\n",
       "      <td>1234</td>\n",
       "      <td>Ford</td>\n",
       "      <td>John</td>\n",
       "      <td>2017-05-25 21:27:58.376248</td>\n",
       "    </tr>\n",
       "    <tr>\n",
       "      <th>4</th>\n",
       "      <td>41</td>\n",
       "      <td>1234</td>\n",
       "      <td>Harrison</td>\n",
       "      <td>Patrick</td>\n",
       "      <td>2017-05-25 21:27:58.376248</td>\n",
       "    </tr>\n",
       "  </tbody>\n",
       "</table>\n",
       "</div>"
      ],
      "text/plain": [
       "   age  customer_nr last_name     name                signup_date\n",
       "0   43         1234     Smith     John 2017-05-25 21:27:58.376248\n",
       "1   25         1234    Potter     Mary 2017-05-25 21:27:58.376248\n",
       "2   39         1234  Harrison     Rose 2017-05-25 21:27:58.376248\n",
       "3   56         1234      Ford     John 2017-05-25 21:27:58.376248\n",
       "4   41         1234  Harrison  Patrick 2017-05-25 21:27:58.376248"
      ]
     },
     "execution_count": 40,
     "metadata": {},
     "output_type": "execute_result"
    }
   ],
   "source": [
    "# Add a new column and assign a value for existing column\n",
    "import datetime\n",
    "customers_df['signup_date'] = datetime.datetime.now()\n",
    "customers_df ['customer_nr'] = 1234 # Set all values to 1234, you can also pass an array to specify each value\n",
    "customers_df"
   ]
  },
  {
   "cell_type": "code",
   "execution_count": 41,
   "metadata": {},
   "outputs": [
    {
     "data": {
      "text/html": [
       "<div>\n",
       "<table border=\"1\" class=\"dataframe\">\n",
       "  <thead>\n",
       "    <tr style=\"text-align: right;\">\n",
       "      <th></th>\n",
       "      <th>age</th>\n",
       "      <th>customer_nr</th>\n",
       "      <th>last_name</th>\n",
       "      <th>name</th>\n",
       "      <th>signup_date</th>\n",
       "    </tr>\n",
       "  </thead>\n",
       "  <tbody>\n",
       "    <tr>\n",
       "      <th>0</th>\n",
       "      <td>43</td>\n",
       "      <td>1234</td>\n",
       "      <td>Smith</td>\n",
       "      <td>John</td>\n",
       "      <td>2017-05-25 21:27:58.376248</td>\n",
       "    </tr>\n",
       "    <tr>\n",
       "      <th>3</th>\n",
       "      <td>56</td>\n",
       "      <td>1234</td>\n",
       "      <td>Ford</td>\n",
       "      <td>John</td>\n",
       "      <td>2017-05-25 21:27:58.376248</td>\n",
       "    </tr>\n",
       "    <tr>\n",
       "      <th>4</th>\n",
       "      <td>41</td>\n",
       "      <td>1234</td>\n",
       "      <td>Harrison</td>\n",
       "      <td>Patrick</td>\n",
       "      <td>2017-05-25 21:27:58.376248</td>\n",
       "    </tr>\n",
       "  </tbody>\n",
       "</table>\n",
       "</div>"
      ],
      "text/plain": [
       "   age  customer_nr last_name     name                signup_date\n",
       "0   43         1234     Smith     John 2017-05-25 21:27:58.376248\n",
       "3   56         1234      Ford     John 2017-05-25 21:27:58.376248\n",
       "4   41         1234  Harrison  Patrick 2017-05-25 21:27:58.376248"
      ]
     },
     "execution_count": 41,
     "metadata": {},
     "output_type": "execute_result"
    }
   ],
   "source": [
    "# Boolean masks: select all customers that are older than 40\n",
    "# Note the use of 3\n",
    "customers_df[customers_df['age'] > 40]"
   ]
  },
  {
   "cell_type": "code",
   "execution_count": 42,
   "metadata": {},
   "outputs": [
    {
     "data": {
      "text/plain": [
       "<matplotlib.axes._subplots.AxesSubplot at 0x115f5c390>"
      ]
     },
     "execution_count": 42,
     "metadata": {},
     "output_type": "execute_result"
    },
    {
     "data": {
      "image/png": "[encoded data removed]",
      "text/plain": [
       "<matplotlib.figure.Figure at 0x116966f10>"
      ]
     },
     "metadata": {},
     "output_type": "display_data"
    }
   ],
   "source": [
    "# you can plot counts (do matplotlib plots inline)\n",
    "%matplotlib inline \n",
    "name_counts = customers_df['name'].value_counts()\n",
    "name_counts.plot(kind='barh') # barh = bar horizontal"
   ]
  },
  {
   "cell_type": "markdown",
   "metadata": {},
   "source": [
    "## Dataframes and functions"
   ]
  },
  {
   "cell_type": "code",
   "execution_count": 54,
   "metadata": {},
   "outputs": [
    {
     "data": {
      "text/html": [
       "<div>\n",
       "<table border=\"1\" class=\"dataframe\">\n",
       "  <thead>\n",
       "    <tr style=\"text-align: right;\">\n",
       "      <th></th>\n",
       "      <th>elevation</th>\n",
       "      <th>signal_strength</th>\n",
       "    </tr>\n",
       "  </thead>\n",
       "  <tbody>\n",
       "    <tr>\n",
       "      <th>0</th>\n",
       "      <td>123</td>\n",
       "      <td>-783</td>\n",
       "    </tr>\n",
       "    <tr>\n",
       "      <th>1</th>\n",
       "      <td>-23</td>\n",
       "      <td>123</td>\n",
       "    </tr>\n",
       "    <tr>\n",
       "      <th>2</th>\n",
       "      <td>456</td>\n",
       "      <td>453</td>\n",
       "    </tr>\n",
       "  </tbody>\n",
       "</table>\n",
       "</div>"
      ],
      "text/plain": [
       "   elevation  signal_strength\n",
       "0        123             -783\n",
       "1        -23              123\n",
       "2        456              453"
      ]
     },
     "execution_count": 54,
     "metadata": {},
     "output_type": "execute_result"
    }
   ],
   "source": [
    "# Let's define a dataframe\n",
    "numbers = pd.DataFrame({\n",
    "    'elevation': [123, -23, 456],\n",
    "    'signal_strength': [-783, 123, 453]\n",
    "})\n",
    "numbers"
   ]
  },
  {
   "cell_type": "code",
   "execution_count": 53,
   "metadata": {},
   "outputs": [
    {
     "data": {
      "text/html": [
       "<div>\n",
       "<table border=\"1\" class=\"dataframe\">\n",
       "  <thead>\n",
       "    <tr style=\"text-align: right;\">\n",
       "      <th></th>\n",
       "      <th>elevation</th>\n",
       "      <th>signal_strength</th>\n",
       "    </tr>\n",
       "  </thead>\n",
       "  <tbody>\n",
       "    <tr>\n",
       "      <th>0</th>\n",
       "      <td>123</td>\n",
       "      <td>783</td>\n",
       "    </tr>\n",
       "    <tr>\n",
       "      <th>1</th>\n",
       "      <td>23</td>\n",
       "      <td>123</td>\n",
       "    </tr>\n",
       "    <tr>\n",
       "      <th>2</th>\n",
       "      <td>456</td>\n",
       "      <td>453</td>\n",
       "    </tr>\n",
       "  </tbody>\n",
       "</table>\n",
       "</div>"
      ],
      "text/plain": [
       "   elevation  signal_strength\n",
       "0        123              783\n",
       "1         23              123\n",
       "2        456              453"
      ]
     },
     "execution_count": 53,
     "metadata": {},
     "output_type": "execute_result"
    }
   ],
   "source": [
    "# Since a dataframe is just a Series of Series, you can apply numpy functions to it, like so:\n",
    "import numpy as np\n",
    "np.abs(numbers)"
   ]
  },
  {
   "cell_type": "code",
   "execution_count": 57,
   "metadata": {},
   "outputs": [
    {
     "data": {
      "text/html": [
       "<div>\n",
       "<table border=\"1\" class=\"dataframe\">\n",
       "  <thead>\n",
       "    <tr style=\"text-align: right;\">\n",
       "      <th></th>\n",
       "      <th>elevation</th>\n",
       "      <th>signal_strength</th>\n",
       "    </tr>\n",
       "  </thead>\n",
       "  <tbody>\n",
       "    <tr>\n",
       "      <th>0</th>\n",
       "      <td>223</td>\n",
       "      <td>-683</td>\n",
       "    </tr>\n",
       "    <tr>\n",
       "      <th>1</th>\n",
       "      <td>77</td>\n",
       "      <td>223</td>\n",
       "    </tr>\n",
       "    <tr>\n",
       "      <th>2</th>\n",
       "      <td>556</td>\n",
       "      <td>553</td>\n",
       "    </tr>\n",
       "  </tbody>\n",
       "</table>\n",
       "</div>"
      ],
      "text/plain": [
       "   elevation  signal_strength\n",
       "0        223             -683\n",
       "1         77              223\n",
       "2        556              553"
      ]
     },
     "execution_count": 57,
     "metadata": {},
     "output_type": "execute_result"
    }
   ],
   "source": [
    "# Apply a custom function to a column (=series at a time)\n",
    "numbers.apply(lambda col_series: col_series + 100)"
   ]
  },
  {
   "cell_type": "code",
   "execution_count": 79,
   "metadata": {},
   "outputs": [
    {
     "data": {
      "text/html": [
       "<div>\n",
       "<table border=\"1\" class=\"dataframe\">\n",
       "  <thead>\n",
       "    <tr style=\"text-align: right;\">\n",
       "      <th></th>\n",
       "      <th>elevation</th>\n",
       "      <th>signal_strength</th>\n",
       "    </tr>\n",
       "  </thead>\n",
       "  <tbody>\n",
       "    <tr>\n",
       "      <th>0</th>\n",
       "      <td>123</td>\n",
       "      <td>0</td>\n",
       "    </tr>\n",
       "    <tr>\n",
       "      <th>1</th>\n",
       "      <td>0</td>\n",
       "      <td>123</td>\n",
       "    </tr>\n",
       "    <tr>\n",
       "      <th>2</th>\n",
       "      <td>456</td>\n",
       "      <td>453</td>\n",
       "    </tr>\n",
       "  </tbody>\n",
       "</table>\n",
       "</div>"
      ],
      "text/plain": [
       "   elevation  signal_strength\n",
       "0        123                0\n",
       "1          0              123\n",
       "2        456              453"
      ]
     },
     "execution_count": 79,
     "metadata": {},
     "output_type": "execute_result"
    }
   ],
   "source": [
    "# Apply a custom function to an element at a time\n",
    "numbers.applymap(lambda val: 0 if val < 100 else val)"
   ]
  }
 ],
 "metadata": {
  "kernelspec": {
   "display_name": "Python 2",
   "language": "python",
   "name": "python2"
  },
  "language_info": {
   "codemirror_mode": {
    "name": "ipython",
    "version": 2
   },
   "file_extension": ".py",
   "mimetype": "text/x-python",
   "name": "python",
   "nbconvert_exporter": "python",
   "pygments_lexer": "ipython2",
   "version": "2.7.13"
  }
 },
 "nbformat": 4,
 "nbformat_minor": 1
}
