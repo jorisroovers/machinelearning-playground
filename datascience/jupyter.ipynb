{
 "cells": [
  {
   "attachments": {},
   "cell_type": "markdown",
   "metadata": {},
   "source": [
    "# Jupyter\n",
    "\n",
    "Name comes from: **Ju**lia**Pyt**hon(**e**)**R**"
   ]
  },
  {
   "cell_type": "markdown",
   "metadata": {},
   "source": [
    "## Shortcuts ##"
   ]
  },
  {
   "cell_type": "markdown",
   "metadata": {},
   "source": [
    "The jupyter notebook interface has a bunch of shortcuts that you can use, but they are not well documented in the webinterface."
   ]
  },
  {
   "cell_type": "markdown",
   "metadata": {},
   "source": [
    "Shortcut    | Description\n",
    "------------|-------------\n",
    "Enter       | Enter edit mode\n",
    "Esc         | Enter command mode (escape edit mode)\n",
    "Tab         | Autocompletion\n",
    "Shift-Enter | Run cell, select below\n",
    "Ctrl-Enter  | Run cell\n",
    "y           | Convert to code cell\n",
    "m           | Convert to markdown cell\n",
    "a           | Insert new cell above\n",
    "b           | Insert new cell below\n",
    "dd          | Delete cell\n",
    "\n",
    "There are a lot more schortcuts: (https://sowingseasons.com/blog/reference/2016/01/jupyter-keyboard-shortcuts/23298516)[]"
   ]
  },
  {
   "cell_type": "markdown",
   "metadata": {},
   "source": [
    "## Help ##"
   ]
  },
  {
   "cell_type": "code",
   "execution_count": 9,
   "metadata": {
    "collapsed": true
   },
   "outputs": [
    {
     "name": "stdout",
     "output_type": "stream",
     "text": [
      "\u001b[0;31mSignature:\u001b[0m \u001b[0ma\u001b[0m\u001b[0;34m.\u001b[0m\u001b[0mextend\u001b[0m\u001b[0;34m(\u001b[0m\u001b[0miterable\u001b[0m\u001b[0;34m,\u001b[0m \u001b[0;34m/\u001b[0m\u001b[0;34m)\u001b[0m\u001b[0;34m\u001b[0m\u001b[0;34m\u001b[0m\u001b[0m\n",
      "\u001b[0;31mDocstring:\u001b[0m Extend list by appending elements from the iterable.\n",
      "\u001b[0;31mType:\u001b[0m      builtin_function_or_method\n"
     ]
    }
   ],
   "source": [
    "# Use a question mark after a command to get more info about it\n",
    "a = [1, 2, 3]\n",
    "a.extend?"
   ]
  },
  {
   "cell_type": "code",
   "execution_count": 10,
   "metadata": {
    "collapsed": true
   },
   "outputs": [
    {
     "name": "stdout",
     "output_type": "stream",
     "text": [
      "\u001b[0;31mSignature:\u001b[0m \u001b[0mmyfunc\u001b[0m\u001b[0;34m(\u001b[0m\u001b[0mx\u001b[0m\u001b[0;34m)\u001b[0m\u001b[0;34m\u001b[0m\u001b[0;34m\u001b[0m\u001b[0m\n",
      "\u001b[0;31mDocstring:\u001b[0m Fancy function \n",
      "\u001b[0;31mFile:\u001b[0m      /tmp/ipykernel_8006/1866249502.py\n",
      "\u001b[0;31mType:\u001b[0m      function\n"
     ]
    }
   ],
   "source": [
    "# Use double question marks to get the source code if available\n",
    "def myfunc(x):\n",
    "    \"\"\" Fancy function \"\"\"\n",
    "    return x + 2\n",
    "\n",
    "myfunc?"
   ]
  },
  {
   "cell_type": "code",
   "execution_count": 11,
   "metadata": {
    "collapsed": true
   },
   "outputs": [
    {
     "name": "stdout",
     "output_type": "stream",
     "text": [
      "\u001b[0;31mSignature:\u001b[0m \u001b[0mmyfunc\u001b[0m\u001b[0;34m(\u001b[0m\u001b[0mx\u001b[0m\u001b[0;34m)\u001b[0m\u001b[0;34m\u001b[0m\u001b[0;34m\u001b[0m\u001b[0m\n",
      "\u001b[0;31mSource:\u001b[0m   \n",
      "\u001b[0;32mdef\u001b[0m \u001b[0mmyfunc\u001b[0m\u001b[0;34m(\u001b[0m\u001b[0mx\u001b[0m\u001b[0;34m)\u001b[0m\u001b[0;34m:\u001b[0m\u001b[0;34m\u001b[0m\n",
      "\u001b[0;34m\u001b[0m    \u001b[0;34m\"\"\" Fancy function \"\"\"\u001b[0m\u001b[0;34m\u001b[0m\n",
      "\u001b[0;34m\u001b[0m    \u001b[0;32mreturn\u001b[0m \u001b[0mx\u001b[0m \u001b[0;34m+\u001b[0m \u001b[0;36m2\u001b[0m\u001b[0;34m\u001b[0m\u001b[0;34m\u001b[0m\u001b[0m\n",
      "\u001b[0;31mFile:\u001b[0m      /tmp/ipykernel_8006/1866249502.py\n",
      "\u001b[0;31mType:\u001b[0m      function\n"
     ]
    }
   ],
   "source": [
    "myfunc??"
   ]
  },
  {
   "cell_type": "markdown",
   "metadata": {},
   "source": [
    "# Cell Tags"
   ]
  },
  {
   "attachments": {},
   "cell_type": "markdown",
   "metadata": {
    "tags": []
   },
   "source": [
    "You can add tags to cells, this is metadata that some tools can use:\n",
    "- https://nbconvert.readthedocs.io\n",
    "- https://github.com/computationalmodelling/nbval\n",
    "\n",
    "For example, the `raises-exception` will cause jupyter notebook to ignore an error in a python (at the time of writing, this doesn't work in VSCode: https://github.com/microsoft/vscode-jupyter/issues/11441). This is useful because jupyter notebooks will stop executing if they encounter an an error (and sometimes you deliberately want to show a failing command, e.g. in a tutorial)"
   ]
  },
  {
   "cell_type": "code",
   "execution_count": 3,
   "metadata": {
    "tags": [
     "mytag"
    ]
   },
   "outputs": [
    {
     "name": "stdout",
     "output_type": "stream",
     "text": [
      "This cell is tagged\n"
     ]
    }
   ],
   "source": [
    "print(\"This cell is tagged\")"
   ]
  },
  {
   "cell_type": "markdown",
   "metadata": {},
   "source": [
    "## Magic Commands ##"
   ]
  },
  {
   "cell_type": "code",
   "execution_count": 4,
   "metadata": {},
   "outputs": [],
   "source": [
    "# Magic commands start with a % sign\n",
    "# Not exectuted here because it will cause a lot of output\n",
    "# %timeit print(\"foo\")"
   ]
  },
  {
   "cell_type": "code",
   "execution_count": 5,
   "metadata": {},
   "outputs": [
    {
     "name": "stdout",
     "output_type": "stream",
     "text": [
      "foo\n",
      "foo\n",
      "foo\n",
      "foo\n",
      "foo\n",
      "foo\n",
      "foo\n",
      "foo\n",
      "foo\n",
      "foo\n",
      "foo\n",
      "foo\n",
      "foo\n",
      "foo\n",
      "foo\n",
      "foo\n",
      "foo\n",
      "foo\n",
      "foo\n",
      "foo\n",
      "foo\n",
      "The slowest run took 5.22 times longer than the fastest. This could mean that an intermediate result is being cached.\n",
      "7.02 µs ± 6.01 µs per loop (mean ± std. dev. of 7 runs, 3 loops each)\n"
     ]
    }
   ],
   "source": [
    "# You can add parameters to magic commands, just like you would do for commandline commands\n",
    "%timeit -n 3 print(\"foo\") # Only do 5 loops, instead of the default 10k"
   ]
  },
  {
   "cell_type": "code",
   "execution_count": 6,
   "metadata": {
    "collapsed": true
   },
   "outputs": [
    {
     "name": "stdout",
     "output_type": "stream",
     "text": [
      "\u001b[0;31mDocstring:\u001b[0m\n",
      "Time execution of a Python statement or expression\n",
      "\n",
      "Usage, in line mode:\n",
      "  %timeit [-n<N> -r<R> [-t|-c] -q -p<P> -o] statement\n",
      "or in cell mode:\n",
      "  %%timeit [-n<N> -r<R> [-t|-c] -q -p<P> -o] setup_code\n",
      "  code\n",
      "  code...\n",
      "\n",
      "Time execution of a Python statement or expression using the timeit\n",
      "module.  This function can be used both as a line and cell magic:\n",
      "\n",
      "- In line mode you can time a single-line statement (though multiple\n",
      "  ones can be chained with using semicolons).\n",
      "\n",
      "- In cell mode, the statement in the first line is used as setup code\n",
      "  (executed but not timed) and the body of the cell is timed.  The cell\n",
      "  body has access to any variables created in the setup code.\n",
      "\n",
      "Options:\n",
      "-n<N>: execute the given statement <N> times in a loop. If <N> is not\n",
      "provided, <N> is determined so as to get sufficient accuracy.\n",
      "\n",
      "-r<R>: number of repeats <R>, each consisting of <N> loops, and take the\n",
      "best result.\n",
      "Default: 7\n",
      "\n",
      "-t: use time.time to measure the time, which is the default on Unix.\n",
      "This function measures wall time.\n",
      "\n",
      "-c: use time.clock to measure the time, which is the default on\n",
      "Windows and measures wall time. On Unix, resource.getrusage is used\n",
      "instead and returns the CPU user time.\n",
      "\n",
      "-p<P>: use a precision of <P> digits to display the timing result.\n",
      "Default: 3\n",
      "\n",
      "-q: Quiet, do not print result.\n",
      "\n",
      "-o: return a TimeitResult that can be stored in a variable to inspect\n",
      "    the result in more details.\n",
      "\n",
      ".. versionchanged:: 7.3\n",
      "    User variables are no longer expanded,\n",
      "    the magic line is always left unmodified.\n",
      "\n",
      "Examples\n",
      "--------\n",
      "::\n",
      "\n",
      "  In [1]: %timeit pass\n",
      "  8.26 ns ± 0.12 ns per loop (mean ± std. dev. of 7 runs, 100000000 loops each)\n",
      "\n",
      "  In [2]: u = None\n",
      "\n",
      "  In [3]: %timeit u is None\n",
      "  29.9 ns ± 0.643 ns per loop (mean ± std. dev. of 7 runs, 10000000 loops each)\n",
      "\n",
      "  In [4]: %timeit -r 4 u == None\n",
      "\n",
      "  In [5]: import time\n",
      "\n",
      "  In [6]: %timeit -n1 time.sleep(2)\n",
      "\n",
      "\n",
      "The times reported by %timeit will be slightly higher than those\n",
      "reported by the timeit.py script when variables are accessed. This is\n",
      "due to the fact that %timeit executes the statement in the namespace\n",
      "of the shell, compared with timeit.py, which uses a single setup\n",
      "statement to import function or create variables. Generally, the bias\n",
      "does not matter as long as results from timeit.py are not mixed with\n",
      "those from %timeit.\n",
      "\u001b[0;31mFile:\u001b[0m      /opt/conda/lib/python3.9/site-packages/IPython/core/magics/execution.py\n"
     ]
    }
   ],
   "source": [
    "# You can also ask for help for magic commands using the question mark\n",
    "%timeit?"
   ]
  },
  {
   "cell_type": "code",
   "execution_count": 7,
   "metadata": {
    "collapsed": true
   },
   "outputs": [
    {
     "name": "stdout",
     "output_type": "stream",
     "text": [
      "\n",
      "IPython -- An enhanced Interactive Python - Quick Reference Card\n",
      "================================================================\n",
      "\n",
      "obj?, obj??      : Get help, or more help for object (also works as\n",
      "                   ?obj, ??obj).\n",
      "?foo.*abc*       : List names in 'foo' containing 'abc' in them.\n",
      "%magic           : Information about IPython's 'magic' % functions.\n",
      "\n",
      "Magic functions are prefixed by % or %%, and typically take their arguments\n",
      "without parentheses, quotes or even commas for convenience.  Line magics take a\n",
      "single % and cell magics are prefixed with two %%.\n",
      "\n",
      "Example magic function calls:\n",
      "\n",
      "%alias d ls -F   : 'd' is now an alias for 'ls -F'\n",
      "alias d ls -F    : Works if 'alias' not a python name\n",
      "alist = %alias   : Get list of aliases to 'alist'\n",
      "cd /usr/share    : Obvious. cd -<tab> to choose from visited dirs.\n",
      "%cd??            : See help AND source for magic %cd\n",
      "%timeit x=10     : time the 'x=10' statement with high precision.\n",
      "%%timeit x=2**100\n",
      "x**100           : time 'x**100' with a setup of 'x=2**100'; setup code is not\n",
      "                   counted.  This is an example of a cell magic.\n",
      "\n",
      "System commands:\n",
      "\n",
      "!cp a.txt b/     : System command escape, calls os.system()\n",
      "cp a.txt b/      : after %rehashx, most system commands work without !\n",
      "cp ${f}.txt $bar : Variable expansion in magics and system commands\n",
      "files = !ls /usr : Capture system command output\n",
      "files.s, files.l, files.n: \"a b c\", ['a','b','c'], 'a\\nb\\nc'\n",
      "\n",
      "History:\n",
      "\n",
      "_i, _ii, _iii    : Previous, next previous, next next previous input\n",
      "_i4, _ih[2:5]    : Input history line 4, lines 2-4\n",
      "exec(_i81)       : Execute input history line #81 again\n",
      "%rep 81          : Edit input history line #81\n",
      "_, __, ___       : previous, next previous, next next previous output\n",
      "_dh              : Directory history\n",
      "_oh              : Output history\n",
      "%hist            : Command history of current session.\n",
      "%hist -g foo     : Search command history of (almost) all sessions for 'foo'.\n",
      "%hist -g         : Command history of (almost) all sessions.\n",
      "%hist 1/2-8      : Command history containing lines 2-8 of session 1.\n",
      "%hist 1/ ~2/     : Command history of session 1 and 2 sessions before current.\n",
      "%hist ~8/1-~6/5  : Command history from line 1 of 8 sessions ago to\n",
      "                   line 5 of 6 sessions ago.\n",
      "%edit 0/         : Open editor to execute code with history of current session.\n",
      "\n",
      "Autocall:\n",
      "\n",
      "f 1,2            : f(1,2)  # Off by default, enable with %autocall magic.\n",
      "/f 1,2           : f(1,2) (forced autoparen)\n",
      ",f 1 2           : f(\"1\",\"2\")\n",
      ";f 1 2           : f(\"1 2\")\n",
      "\n",
      "Remember: TAB completion works in many contexts, not just file names\n",
      "or python names.\n",
      "\n",
      "The following magic functions are currently available:\n",
      "\n",
      "%alias:\n",
      "    Define an alias for a system command.\n",
      "%alias_magic:\n",
      "    ::\n",
      "%autoawait:\n",
      "    \n",
      "%autocall:\n",
      "    Make functions callable without having to type parentheses.\n",
      "%automagic:\n",
      "    Make magic functions callable without having to type the initial %.\n",
      "%autosave:\n",
      "    Set the autosave interval in the notebook (in seconds).\n",
      "%bookmark:\n",
      "    Manage IPython's bookmark system.\n",
      "%cat:\n",
      "    Alias for `!cat`\n",
      "%cd:\n",
      "    Change the current working directory.\n",
      "%clear:\n",
      "    Clear the terminal.\n",
      "%colors:\n",
      "    Switch color scheme for prompts, info system and exception handlers.\n",
      "%conda:\n",
      "    Run the conda package manager within the current kernel.\n",
      "%config:\n",
      "    configure IPython\n",
      "%connect_info:\n",
      "    Print information for connecting other clients to this kernel\n",
      "%cp:\n",
      "    Alias for `!cp`\n",
      "%debug:\n",
      "    ::\n",
      "%dhist:\n",
      "    Print your history of visited directories.\n",
      "%dirs:\n",
      "    Return the current directory stack.\n",
      "%doctest_mode:\n",
      "    Toggle doctest mode on and off.\n",
      "%ed:\n",
      "    Alias for `%edit`.\n",
      "%edit:\n",
      "    Bring up an editor and execute the resulting code.\n",
      "%env:\n",
      "    Get, set, or list environment variables.\n",
      "%gui:\n",
      "    Enable or disable IPython GUI event loop integration.\n",
      "%hist:\n",
      "    Alias for `%history`.\n",
      "%history:\n",
      "    ::\n",
      "%killbgscripts:\n",
      "    Kill all BG processes started by %%script and its family.\n",
      "%ldir:\n",
      "    Alias for `!ls -F -o --color %l | grep /$`\n",
      "%less:\n",
      "    Show a file through the pager.\n",
      "%lf:\n",
      "    Alias for `!ls -F -o --color %l | grep ^-`\n",
      "%lk:\n",
      "    Alias for `!ls -F -o --color %l | grep ^l`\n",
      "%ll:\n",
      "    Alias for `!ls -F -o --color`\n",
      "%load:\n",
      "    Load code into the current frontend.\n",
      "%load_ext:\n",
      "    Load an IPython extension by its module name.\n",
      "%loadpy:\n",
      "    Alias of `%load`\n",
      "%logoff:\n",
      "    Temporarily stop logging.\n",
      "%logon:\n",
      "    Restart logging.\n",
      "%logstart:\n",
      "    Start logging anywhere in a session.\n",
      "%logstate:\n",
      "    Print the status of the logging system.\n",
      "%logstop:\n",
      "    Fully stop logging and close log file.\n",
      "%ls:\n",
      "    Alias for `!ls -F --color`\n",
      "%lsmagic:\n",
      "    List currently available magic functions.\n",
      "%lx:\n",
      "    Alias for `!ls -F -o --color %l | grep ^-..x`\n",
      "%macro:\n",
      "    Define a macro for future re-execution. It accepts ranges of history,\n",
      "%magic:\n",
      "    Print information about the magic function system.\n",
      "%man:\n",
      "    Find the man page for the given command and display in pager.\n",
      "%matplotlib:\n",
      "    ::\n",
      "%mkdir:\n",
      "    Alias for `!mkdir`\n",
      "%more:\n",
      "    Show a file through the pager.\n",
      "%mv:\n",
      "    Alias for `!mv`\n",
      "%notebook:\n",
      "    ::\n",
      "%page:\n",
      "    Pretty print the object and display it through a pager.\n",
      "%pastebin:\n",
      "    Upload code to dpaste.com, returning the URL.\n",
      "%pdb:\n",
      "    Control the automatic calling of the pdb interactive debugger.\n",
      "%pdef:\n",
      "    Print the call signature for any callable object.\n",
      "%pdoc:\n",
      "    Print the docstring for an object.\n",
      "%pfile:\n",
      "    Print (or run through pager) the file where an object is defined.\n",
      "%pinfo:\n",
      "    Provide detailed information about an object.\n",
      "%pinfo2:\n",
      "    Provide extra detailed information about an object.\n",
      "%pip:\n",
      "    Run the pip package manager within the current kernel.\n",
      "%popd:\n",
      "    Change to directory popped off the top of the stack.\n",
      "%pprint:\n",
      "    Toggle pretty printing on/off.\n",
      "%precision:\n",
      "    Set floating point precision for pretty printing.\n",
      "%prun:\n",
      "    Run a statement through the python code profiler.\n",
      "%psearch:\n",
      "    Search for object in namespaces by wildcard.\n",
      "%psource:\n",
      "    Print (or run through pager) the source code for an object.\n",
      "%pushd:\n",
      "    Place the current dir on stack and change directory.\n",
      "%pwd:\n",
      "    Return the current working directory path.\n",
      "%pycat:\n",
      "    Show a syntax-highlighted file through a pager.\n",
      "%pylab:\n",
      "    ::\n",
      "%qtconsole:\n",
      "    Open a qtconsole connected to this kernel.\n",
      "%quickref:\n",
      "    Show a quick reference sheet \n",
      "%recall:\n",
      "    Repeat a command, or get command to input line for editing.\n",
      "%rehashx:\n",
      "    Update the alias table with all executable files in $PATH.\n",
      "%reload_ext:\n",
      "    Reload an IPython extension by its module name.\n",
      "%rep:\n",
      "    Alias for `%recall`.\n",
      "%rerun:\n",
      "    Re-run previous input\n",
      "%reset:\n",
      "    Resets the namespace by removing all names defined by the user, if\n",
      "%reset_selective:\n",
      "    Resets the namespace by removing names defined by the user.\n",
      "%rm:\n",
      "    Alias for `!rm`\n",
      "%rmdir:\n",
      "    Alias for `!rmdir`\n",
      "%run:\n",
      "    Run the named file inside IPython as a program.\n",
      "%save:\n",
      "    Save a set of lines or a macro to a given filename.\n",
      "%sc:\n",
      "    Shell capture - run shell command and capture output (DEPRECATED use !).\n",
      "%set_env:\n",
      "    Set environment variables.  Assumptions are that either \"val\" is a\n",
      "%store:\n",
      "    Lightweight persistence for python variables.\n",
      "%sx:\n",
      "    Shell execute - run shell command and capture output (!! is short-hand).\n",
      "%system:\n",
      "    Shell execute - run shell command and capture output (!! is short-hand).\n",
      "%tb:\n",
      "    Print the last traceback.\n",
      "%time:\n",
      "    Time execution of a Python statement or expression.\n",
      "%timeit:\n",
      "    Time execution of a Python statement or expression\n",
      "%unalias:\n",
      "    Remove an alias\n",
      "%unload_ext:\n",
      "    Unload an IPython extension by its module name.\n",
      "%who:\n",
      "    Print all interactive variables, with some minimal formatting.\n",
      "%who_ls:\n",
      "    Return a sorted list of all interactive variables.\n",
      "%whos:\n",
      "    Like %who, but gives some extra information about each variable.\n",
      "%xdel:\n",
      "    Delete a variable, trying to clear it from anywhere that\n",
      "%xmode:\n",
      "    Switch modes for the exception handlers.\n",
      "%%!:\n",
      "    Shell execute - run shell command and capture output (!! is short-hand).\n",
      "%%HTML:\n",
      "    Alias for `%%html`.\n",
      "%%SVG:\n",
      "    Alias for `%%svg`.\n",
      "%%bash:\n",
      "    %%bash script magic\n",
      "%%capture:\n",
      "    ::\n",
      "%%debug:\n",
      "    ::\n",
      "%%file:\n",
      "    Alias for `%%writefile`.\n",
      "%%html:\n",
      "    ::\n",
      "%%javascript:\n",
      "    Run the cell block of Javascript code\n",
      "%%js:\n",
      "    Run the cell block of Javascript code\n",
      "%%latex:\n",
      "    Render the cell as a block of latex\n",
      "%%markdown:\n",
      "    Render the cell as Markdown text block\n",
      "%%perl:\n",
      "    %%perl script magic\n",
      "%%prun:\n",
      "    Run a statement through the python code profiler.\n",
      "%%pypy:\n",
      "    %%pypy script magic\n",
      "%%python:\n",
      "    %%python script magic\n",
      "%%python2:\n",
      "    %%python2 script magic\n",
      "%%python3:\n",
      "    %%python3 script magic\n",
      "%%ruby:\n",
      "    %%ruby script magic\n",
      "%%script:\n",
      "    ::\n",
      "%%sh:\n",
      "    %%sh script magic\n",
      "%%svg:\n",
      "    Render the cell as an SVG literal\n",
      "%%sx:\n",
      "    Shell execute - run shell command and capture output (!! is short-hand).\n",
      "%%system:\n",
      "    Shell execute - run shell command and capture output (!! is short-hand).\n",
      "%%time:\n",
      "    Time execution of a Python statement or expression.\n",
      "%%timeit:\n",
      "    Time execution of a Python statement or expression\n",
      "%%writefile:\n",
      "    ::\n"
     ]
    }
   ],
   "source": [
    "# See a quick reference of other commands:\n",
    "%quickref"
   ]
  },
  {
   "cell_type": "code",
   "execution_count": 8,
   "metadata": {},
   "outputs": [
    {
     "name": "stdout",
     "output_type": "stream",
     "text": [
      " NumPy.ipynb                             jupyter.ipynb\n",
      "'Pandas - Series and Dataframes.ipynb'   myscript.py\n",
      " array-slicing.png                       numpy-cheatsheet.png\n"
     ]
    }
   ],
   "source": [
    "# There are a lot more specicial commands\n",
    "%ls # same as linux ls command: list files in directory"
   ]
  },
  {
   "cell_type": "code",
   "execution_count": 9,
   "metadata": {},
   "outputs": [
    {
     "name": "stdout",
     "output_type": "stream",
     "text": [
      "This is my script\n"
     ]
    }
   ],
   "source": [
    "# Run an external script\n",
    "%run myscript.py"
   ]
  },
  {
   "cell_type": "code",
   "execution_count": 10,
   "metadata": {},
   "outputs": [
    {
     "data": {
      "text/plain": [
       "8"
      ]
     },
     "execution_count": 10,
     "metadata": {},
     "output_type": "execute_result"
    }
   ],
   "source": [
    "# If you forget to store the result of your last statement in a variable, \n",
    "# you can always access it using the special underscore variable, like so:\n",
    "5+3"
   ]
  },
  {
   "cell_type": "code",
   "execution_count": 11,
   "metadata": {},
   "outputs": [
    {
     "data": {
      "text/plain": [
       "8"
      ]
     },
     "execution_count": 11,
     "metadata": {},
     "output_type": "execute_result"
    }
   ],
   "source": [
    "_"
   ]
  },
  {
   "cell_type": "code",
   "execution_count": 12,
   "metadata": {},
   "outputs": [
    {
     "ename": "NameError",
     "evalue": "name '_39' is not defined",
     "output_type": "error",
     "traceback": [
      "\u001b[0;31m---------------------------------------------------------------------------\u001b[0m",
      "\u001b[0;31mNameError\u001b[0m                                 Traceback (most recent call last)",
      "\u001b[0;32m/tmp/ipykernel_31760/958741290.py\u001b[0m in \u001b[0;36m<module>\u001b[0;34m\u001b[0m\n\u001b[1;32m      1\u001b[0m \u001b[0;31m# You can also access previous results by referencing the output number using _X\u001b[0m\u001b[0;34m\u001b[0m\u001b[0;34m\u001b[0m\u001b[0m\n\u001b[1;32m      2\u001b[0m \u001b[0;31m# where X is the output cell you want to reference:\u001b[0m\u001b[0;34m\u001b[0m\u001b[0;34m\u001b[0m\u001b[0m\n\u001b[0;32m----> 3\u001b[0;31m \u001b[0m_39\u001b[0m\u001b[0;34m\u001b[0m\u001b[0;34m\u001b[0m\u001b[0m\n\u001b[0m",
      "\u001b[0;31mNameError\u001b[0m: name '_39' is not defined"
     ]
    }
   ],
   "source": [
    "# You can also access previous results by referencing the output number using _X\n",
    "# where X is the output cell you want to reference:\n",
    "_39"
   ]
  },
  {
   "cell_type": "code",
   "execution_count": null,
   "metadata": {},
   "outputs": [
    {
     "data": {
      "text/plain": [
       "u'# There are a lot more specicial commands\\n%ls'"
      ]
     },
     "execution_count": 44,
     "metadata": {},
     "output_type": "execute_result"
    }
   ],
   "source": [
    "# Or the input number using _iX\n",
    "_i36"
   ]
  },
  {
   "cell_type": "markdown",
   "metadata": {},
   "source": [
    "## Executing shell commands ##"
   ]
  },
  {
   "cell_type": "code",
   "execution_count": null,
   "metadata": {},
   "outputs": [
    {
     "name": "stdout",
     "output_type": "stream",
     "text": [
      "total 736K\n",
      "-rw-rw-rw- 1 vscode root  32K Feb 18 10:39  NumPy.ipynb\n",
      "-rw-rw-rw- 1 vscode root  38K Feb 18 10:39 'Pandas - Series and Dataframes.ipynb'\n",
      "-rw-rw-rw- 1 vscode root  24K Feb 18 10:39  array-slicing.png\n",
      "-rw-rw-rw- 1 vscode root  28K Feb 18 11:14  ipython.ipynb\n",
      "-rw-rw-rw- 1 vscode root   27 Feb 18 11:14  myscript.py\n",
      "-rw-rw-rw- 1 vscode root 608K Feb 18 10:39  numpy-cheatsheet.png\n"
     ]
    }
   ],
   "source": [
    "# You can also easily execute OS commands using !\n",
    "!ls -lh"
   ]
  },
  {
   "cell_type": "code",
   "execution_count": null,
   "metadata": {
    "scrolled": true
   },
   "outputs": [
    {
     "data": {
      "text/plain": [
       "['total 736K',\n",
       " '-rw-rw-rw- 1 vscode root  32K Feb 18 10:39 NumPy.ipynb',\n",
       " '-rw-rw-rw- 1 vscode root  38K Feb 18 10:39 Pandas - Series and Dataframes.ipynb',\n",
       " '-rw-rw-rw- 1 vscode root  24K Feb 18 10:39 array-slicing.png',\n",
       " '-rw-rw-rw- 1 vscode root  28K Feb 18 11:14 ipython.ipynb',\n",
       " '-rw-rw-rw- 1 vscode root   27 Feb 18 11:14 myscript.py',\n",
       " '-rw-rw-rw- 1 vscode root 608K Feb 18 10:39 numpy-cheatsheet.png']"
      ]
     },
     "execution_count": 24,
     "metadata": {},
     "output_type": "execute_result"
    }
   ],
   "source": [
    "output = !ls -lh\n",
    "output"
   ]
  },
  {
   "cell_type": "code",
   "execution_count": null,
   "metadata": {},
   "outputs": [
    {
     "name": "stdout",
     "output_type": "stream",
     "text": [
      "BuildScriptGenerator\n",
      "codespace-code-insiders-zsh\n",
      "dockerd.log\n",
      "fish.codespace\n",
      "pyright-3607-BYzurw4adZQq\n",
      "pyright-3607-qKvGDO6gKQ02\n",
      "pyright-3607-r1mnYLOb3GUb\n",
      "python-languageserver-cancellation\n",
      "sshd.log\n",
      "vscode-code-insiders-zsh\n",
      "vscode-git-56cf389fe3.sock\n",
      "vscode-git-cbd0bb1111.sock\n",
      "vscode-ipc-2b431fc8-45dc-4e67-8e07-f4b312430766.sock\n",
      "vscode-ipc-5dfaa4a4-ac93-41dc-bc49-81611a0a77b2.sock\n",
      "vscode-ipc-7108cbb4-ce03-4e88-9c0f-c96a79618bc7.sock\n",
      "vscode-ipc-7c5cdcd7-813a-4ffe-b526-115ff5e0c4ac.sock\n",
      "vscode-ipc-7dea652d-b26b-4ebf-9846-9a5133410076.sock\n",
      "vscode-ipc-9caf4ee6-e806-4318-8543-91b1d13d4e7d.sock\n"
     ]
    }
   ],
   "source": [
    "# You can reference other variables by prefixing them by a dollar sign $\n",
    "dirname = \"/tmp\"\n",
    "!ls $dirname"
   ]
  }
 ],
 "metadata": {
  "kernelspec": {
   "display_name": "Python 3",
   "language": "python",
   "name": "python3"
  },
  "language_info": {
   "codemirror_mode": {
    "name": "ipython",
    "version": 3
   },
   "file_extension": ".py",
   "mimetype": "text/x-python",
   "name": "python",
   "nbconvert_exporter": "python",
   "pygments_lexer": "ipython3",
   "version": "3.9.13"
  }
 },
 "nbformat": 4,
 "nbformat_minor": 1
}
